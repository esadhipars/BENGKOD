{
  "nbformat": 4,
  "nbformat_minor": 0,
  "metadata": {
    "colab": {
      "provenance": [],
      "authorship_tag": "ABX9TyOlJR6fKHUTIOAqhGYlpqPQ",
      "include_colab_link": true
    },
    "kernelspec": {
      "name": "python3",
      "display_name": "Python 3"
    },
    "language_info": {
      "name": "python"
    }
  },
  "cells": [
    {
      "cell_type": "markdown",
      "metadata": {
        "id": "view-in-github",
        "colab_type": "text"
      },
      "source": [
        "<a href=\"https://colab.research.google.com/github/esadhipars/BENGKOD/blob/main/tugas2.ipynb\" target=\"_parent\"><img src=\"https://colab.research.google.com/assets/colab-badge.svg\" alt=\"Open In Colab\"/></a>"
      ]
    },
    {
      "cell_type": "code",
      "execution_count": 1,
      "metadata": {
        "id": "THednSVvJSAf"
      },
      "outputs": [],
      "source": [
        "import pandas as pd\n",
        "import numpy as np\n",
        "import matplotlib.pyplot as plt\n",
        "import seaborn as sns\n",
        "from sklearn.preprocessing import LabelEncoder, StandardScaler\n",
        "from imblearn.over_sampling import SMOTE"
      ]
    },
    {
      "cell_type": "code",
      "source": [
        "from google.colab import drive\n",
        "drive.mount('/content/drive')"
      ],
      "metadata": {
        "colab": {
          "base_uri": "https://localhost:8080/"
        },
        "id": "CppjWJnrJZhW",
        "outputId": "458526db-bd69-46ca-c49c-845e65e8a741"
      },
      "execution_count": 3,
      "outputs": [
        {
          "output_type": "stream",
          "name": "stdout",
          "text": [
            "Mounted at /content/drive\n"
          ]
        }
      ]
    },
    {
      "cell_type": "code",
      "source": [
        "df = pd.read_csv('/content/drive/MyDrive/projek bengkod/ObesityDataSet.csv')\n",
        "print(\"Jumlah baris dan kolom:\", df.shape)"
      ],
      "metadata": {
        "colab": {
          "base_uri": "https://localhost:8080/"
        },
        "id": "CIHm7CvPJ8v9",
        "outputId": "293f9f50-f1d1-47c6-e245-31a7b23404c0"
      },
      "execution_count": 9,
      "outputs": [
        {
          "output_type": "stream",
          "name": "stdout",
          "text": [
            "Jumlah baris dan kolom: (2111, 17)\n"
          ]
        }
      ]
    },
    {
      "cell_type": "code",
      "source": [
        "#Cek dan tangani missing values\n",
        "print(\"\\nMissing values:\")\n",
        "print(df.isnull().sum())\n",
        "df.dropna(inplace=True)"
      ],
      "metadata": {
        "colab": {
          "base_uri": "https://localhost:8080/"
        },
        "id": "7QJdxB1eKh4P",
        "outputId": "0767fe86-9ea1-4dfd-b6ce-f56f6fc55a76"
      },
      "execution_count": 11,
      "outputs": [
        {
          "output_type": "stream",
          "name": "stdout",
          "text": [
            "\n",
            "Missing values:\n",
            "Age                               0\n",
            "Gender                            0\n",
            "Height                            0\n",
            "Weight                            0\n",
            "CALC                              0\n",
            "FAVC                              0\n",
            "FCVC                              0\n",
            "NCP                               0\n",
            "SCC                               0\n",
            "SMOKE                             0\n",
            "CH2O                              0\n",
            "family_history_with_overweight    0\n",
            "FAF                               0\n",
            "TUE                               0\n",
            "CAEC                              0\n",
            "MTRANS                            0\n",
            "NObeyesdad                        0\n",
            "dtype: int64\n"
          ]
        }
      ]
    },
    {
      "cell_type": "code",
      "source": [
        "#Tangani duplikasi data\n",
        "print(\"\\nJumlah duplikat:\", df.duplicated().sum())\n",
        "df.drop_duplicates(inplace=True)"
      ],
      "metadata": {
        "colab": {
          "base_uri": "https://localhost:8080/"
        },
        "id": "Lx4JAdn6Kkod",
        "outputId": "c020f927-2411-44eb-aee2-8fa04a02266b"
      },
      "execution_count": 12,
      "outputs": [
        {
          "output_type": "stream",
          "name": "stdout",
          "text": [
            "\n",
            "Jumlah duplikat: 18\n"
          ]
        }
      ]
    },
    {
      "cell_type": "code",
      "source": [
        "#tangani outlier dengan Z-Score (threshold > 3)\n",
        "numerik = df.select_dtypes(include=np.number).columns\n",
        "z_scores = np.abs(stats.zscore(df[numerik]))\n",
        "df = df[(z_scores < 3).all(axis=1)]\n",
        "print(\"\\nJumlah data setelah outlier dihapus:\", df.shape)"
      ],
      "metadata": {
        "colab": {
          "base_uri": "https://localhost:8080/"
        },
        "id": "umxWQh-SKpJi",
        "outputId": "52f083f3-f70c-4fb3-becd-c951964afb66"
      },
      "execution_count": 14,
      "outputs": [
        {
          "output_type": "stream",
          "name": "stdout",
          "text": [
            "\n",
            "Jumlah data setelah outlier dihapus: (1943, 17)\n"
          ]
        }
      ]
    },
    {
      "cell_type": "code",
      "source": [
        "#Encode data kategorikal\n",
        "categorical = df.select_dtypes(include='object').columns\n",
        "le = LabelEncoder()\n",
        "for col in categorical:\n",
        "    df[col] = le.fit_transform(df[col])\n",
        "print(\"\\nContoh data setelah encoding:\")\n",
        "print(df.head())"
      ],
      "metadata": {
        "colab": {
          "base_uri": "https://localhost:8080/"
        },
        "id": "AsT1d4FLKrSw",
        "outputId": "5afe3f6d-9440-421f-967c-4df6a97b517f"
      },
      "execution_count": 15,
      "outputs": [
        {
          "output_type": "stream",
          "name": "stdout",
          "text": [
            "\n",
            "Contoh data setelah encoding:\n",
            "   Age  Gender  Height  Weight  CALC  FAVC  FCVC  NCP  SCC  SMOKE  CH2O  \\\n",
            "0  377       1     276     891     4     1   154  434    1      1   506   \n",
            "1  377       1      25     823     3     1   739  434    2      2  1169   \n",
            "2  655       2    1202    1019     2     1   154  434    1      1   506   \n",
            "3  951       2    1202    1256     2     1   739  434    1      1   506   \n",
            "4  542       2    1104    1299     3     1   154    0    1      1   506   \n",
            "\n",
            "   family_history_with_overweight   FAF  TUE  CAEC  MTRANS  NObeyesdad  \n",
            "0                               2     0  779     3       4           1  \n",
            "1                               2  1093    0     3       4           1  \n",
            "2                               2   981  779     3       4           1  \n",
            "3                               1   981    0     3       5           5  \n",
            "4                               1     0    0     3       4           6  \n"
          ]
        }
      ]
    },
    {
      "cell_type": "code",
      "source": [
        "#Cek korelasi untuk feature selection\n",
        "correlation = df.corr()['NObeyesdad'].abs().sort_values(ascending=False)\n",
        "print(\"\\nKorelasi terhadap target:\")\n",
        "print(correlation)"
      ],
      "metadata": {
        "colab": {
          "base_uri": "https://localhost:8080/"
        },
        "id": "ZCAqBKEVK0qj",
        "outputId": "eed97bd1-bee4-4461-db08-c91f81499006"
      },
      "execution_count": 16,
      "outputs": [
        {
          "output_type": "stream",
          "name": "stdout",
          "text": [
            "\n",
            "Korelasi terhadap target:\n",
            "NObeyesdad                        1.000000\n",
            "family_history_with_overweight    0.323036\n",
            "CAEC                              0.298409\n",
            "Age                               0.272283\n",
            "Weight                            0.137890\n",
            "FAF                               0.129653\n",
            "CALC                              0.118836\n",
            "CH2O                              0.095678\n",
            "NCP                               0.073492\n",
            "TUE                               0.053726\n",
            "FAVC                              0.050638\n",
            "MTRANS                            0.048881\n",
            "Height                            0.040140\n",
            "SCC                               0.039509\n",
            "Gender                            0.019676\n",
            "SMOKE                             0.014205\n",
            "FCVC                              0.012510\n",
            "Name: NObeyesdad, dtype: float64\n"
          ]
        }
      ]
    },
    {
      "cell_type": "code",
      "source": [
        "#Pisahkan fitur dan target\n",
        "X = df.drop(columns='NObeyesdad')\n",
        "y = df['NObeyesdad']"
      ],
      "metadata": {
        "id": "PUNTBzkqK6l5"
      },
      "execution_count": 17,
      "outputs": []
    },
    {
      "cell_type": "code",
      "source": [
        "#Tangani imbalance data dengan SMOTE\n",
        "print(\"\\nSebelum SMOTE:\")\n",
        "print(y.value_counts())\n",
        "smote = SMOTE(random_state=42)\n",
        "X_sm, y_sm = smote.fit_resample(X, y)\n",
        "print(\"\\nSetelah SMOTE:\")\n",
        "print(pd.Series(y_sm).value_counts())"
      ],
      "metadata": {
        "colab": {
          "base_uri": "https://localhost:8080/"
        },
        "id": "j7sy9x4RLTXd",
        "outputId": "07c3b729-11fa-4d1c-e60a-fbd186335ff6"
      },
      "execution_count": 18,
      "outputs": [
        {
          "output_type": "stream",
          "name": "stdout",
          "text": [
            "\n",
            "Sebelum SMOTE:\n",
            "NObeyesdad\n",
            "2    331\n",
            "4    304\n",
            "1    268\n",
            "3    268\n",
            "5    260\n",
            "6    259\n",
            "0    253\n",
            "Name: count, dtype: int64\n",
            "\n",
            "Setelah SMOTE:\n",
            "NObeyesdad\n",
            "1    331\n",
            "5    331\n",
            "6    331\n",
            "2    331\n",
            "0    331\n",
            "3    331\n",
            "4    331\n",
            "Name: count, dtype: int64\n"
          ]
        }
      ]
    },
    {
      "cell_type": "code",
      "source": [
        "#Normalisasi fitur\n",
        "scaler = StandardScaler()\n",
        "X_scaled = scaler.fit_transform(X_sm)\n"
      ],
      "metadata": {
        "id": "j-j9L1moLapJ"
      },
      "execution_count": 19,
      "outputs": []
    },
    {
      "cell_type": "code",
      "source": [
        "#Gabungkan kembali ke DataFrame akhir\n",
        "df_final = pd.DataFrame(X_scaled, columns=X.columns)\n",
        "df_final['NObeyesdad'] = y_sm"
      ],
      "metadata": {
        "id": "bJjifzb_LeOS"
      },
      "execution_count": 20,
      "outputs": []
    },
    {
      "cell_type": "markdown",
      "source": [
        "# Kesimpulan Tahap Preprocessing"
      ],
      "metadata": {
        "id": "OEAoCCggMSMe"
      }
    },
    {
      "cell_type": "markdown",
      "source": [
        "1.Data dikonversi ke tipe numerik dan missing value sudah ditangani.\n",
        "\n",
        "2.Ketidakseimbangan kelas ditangani menggunakan SMOTE.\n",
        "\n",
        "3.Data dinormalisasi menggunakan StandardScaler.\n",
        "\n",
        "4.Dataset siap digunakan untuk proses modeling pada tahap berikutnya."
      ],
      "metadata": {
        "id": "LVatgFsuMVQp"
      }
    }
  ]
}