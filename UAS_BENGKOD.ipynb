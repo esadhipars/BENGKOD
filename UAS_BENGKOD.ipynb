{
  "nbformat": 4,
  "nbformat_minor": 0,
  "metadata": {
    "colab": {
      "provenance": [],
      "authorship_tag": "ABX9TyPC0L1eboJtslJv9U1WyZPO",
      "include_colab_link": true
    },
    "kernelspec": {
      "name": "python3",
      "display_name": "Python 3"
    },
    "language_info": {
      "name": "python"
    }
  },
  "cells": [
    {
      "cell_type": "markdown",
      "metadata": {
        "id": "view-in-github",
        "colab_type": "text"
      },
      "source": [
        "<a href=\"https://colab.research.google.com/github/esadhipars/BENGKOD/blob/main/UAS_BENGKOD.ipynb\" target=\"_parent\"><img src=\"https://colab.research.google.com/assets/colab-badge.svg\" alt=\"Open In Colab\"/></a>"
      ]
    },
    {
      "cell_type": "markdown",
      "source": [
        "#Tahap 2"
      ],
      "metadata": {
        "id": "Rh3wfx3kNXYo"
      }
    },
    {
      "cell_type": "code",
      "execution_count": 8,
      "metadata": {
        "id": "THednSVvJSAf"
      },
      "outputs": [],
      "source": [
        "import pandas as pd\n",
        "import numpy as np\n",
        "import matplotlib.pyplot as plt\n",
        "import seaborn as sns\n",
        "from sklearn.preprocessing import LabelEncoder, StandardScaler\n",
        "from imblearn.over_sampling import SMOTE\n",
        "from scipy import stats"
      ]
    },
    {
      "cell_type": "code",
      "source": [
        "from google.colab import drive\n",
        "drive.mount('/content/drive')"
      ],
      "metadata": {
        "colab": {
          "base_uri": "https://localhost:8080/"
        },
        "id": "CppjWJnrJZhW",
        "outputId": "55b0825c-a5cf-45e7-d044-2bb0e01e126d"
      },
      "execution_count": 2,
      "outputs": [
        {
          "output_type": "stream",
          "name": "stdout",
          "text": [
            "Mounted at /content/drive\n"
          ]
        }
      ]
    },
    {
      "cell_type": "code",
      "source": [
        "df = pd.read_csv('/content/drive/MyDrive/projek bengkod/ObesityDataSet.csv')\n",
        "print(\"Jumlah baris dan kolom:\", df.shape)"
      ],
      "metadata": {
        "colab": {
          "base_uri": "https://localhost:8080/"
        },
        "id": "CIHm7CvPJ8v9",
        "outputId": "262c2920-c687-4f3f-fa4c-4b11dae18166"
      },
      "execution_count": 3,
      "outputs": [
        {
          "output_type": "stream",
          "name": "stdout",
          "text": [
            "Jumlah baris dan kolom: (2111, 17)\n"
          ]
        }
      ]
    },
    {
      "cell_type": "code",
      "source": [
        "#Cek dan tangani missing values\n",
        "print(\"\\nMissing values:\")\n",
        "print(df.isnull().sum())\n",
        "df.dropna(inplace=True)"
      ],
      "metadata": {
        "colab": {
          "base_uri": "https://localhost:8080/"
        },
        "id": "7QJdxB1eKh4P",
        "outputId": "88e70ec8-6c2a-46c7-db1f-7ff5d0056973"
      },
      "execution_count": 4,
      "outputs": [
        {
          "output_type": "stream",
          "name": "stdout",
          "text": [
            "\n",
            "Missing values:\n",
            "Age                               14\n",
            "Gender                             9\n",
            "Height                            12\n",
            "Weight                            11\n",
            "CALC                               5\n",
            "FAVC                              11\n",
            "FCVC                               8\n",
            "NCP                               12\n",
            "SCC                               10\n",
            "SMOKE                              5\n",
            "CH2O                               6\n",
            "family_history_with_overweight    13\n",
            "FAF                                8\n",
            "TUE                                9\n",
            "CAEC                              11\n",
            "MTRANS                             6\n",
            "NObeyesdad                         0\n",
            "dtype: int64\n"
          ]
        }
      ]
    },
    {
      "cell_type": "code",
      "source": [
        "#Tangani duplikasi data\n",
        "print(\"\\nJumlah duplikat:\", df.duplicated().sum())\n",
        "df.drop_duplicates(inplace=True)"
      ],
      "metadata": {
        "colab": {
          "base_uri": "https://localhost:8080/"
        },
        "id": "Lx4JAdn6Kkod",
        "outputId": "9a7a9cb6-1c9f-47c4-e0bc-befe395da4fe"
      },
      "execution_count": 5,
      "outputs": [
        {
          "output_type": "stream",
          "name": "stdout",
          "text": [
            "\n",
            "Jumlah duplikat: 18\n"
          ]
        }
      ]
    },
    {
      "cell_type": "code",
      "source": [
        "#tangani outlier dengan Z-Score (threshold > 3)\n",
        "numerik = df.select_dtypes(include=np.number).columns\n",
        "z_scores = np.abs(stats.zscore(df[numerik]))\n",
        "df = df[(z_scores < 3).all(axis=1)]\n",
        "print(\"\\nJumlah data setelah outlier dihapus:\", df.shape)"
      ],
      "metadata": {
        "colab": {
          "base_uri": "https://localhost:8080/"
        },
        "id": "umxWQh-SKpJi",
        "outputId": "6529f954-3270-48d3-a9bd-f9bf44c379cb"
      },
      "execution_count": 9,
      "outputs": [
        {
          "output_type": "stream",
          "name": "stdout",
          "text": [
            "\n",
            "Jumlah data setelah outlier dihapus: (1943, 17)\n"
          ]
        }
      ]
    },
    {
      "cell_type": "code",
      "source": [
        "#Encode data kategorikal\n",
        "categorical = df.select_dtypes(include='object').columns\n",
        "le = LabelEncoder()\n",
        "for col in categorical:\n",
        "    df[col] = le.fit_transform(df[col])\n",
        "print(\"\\nContoh data setelah encoding:\")\n",
        "print(df.head())"
      ],
      "metadata": {
        "colab": {
          "base_uri": "https://localhost:8080/"
        },
        "id": "AsT1d4FLKrSw",
        "outputId": "00b28b34-9612-4b26-db7a-c933487df4fd"
      },
      "execution_count": 10,
      "outputs": [
        {
          "output_type": "stream",
          "name": "stdout",
          "text": [
            "\n",
            "Contoh data setelah encoding:\n",
            "   Age  Gender  Height  Weight  CALC  FAVC  FCVC  NCP  SCC  SMOKE  CH2O  \\\n",
            "0  377       1     276     891     4     1   154  434    1      1   506   \n",
            "1  377       1      25     823     3     1   739  434    2      2  1169   \n",
            "2  655       2    1202    1019     2     1   154  434    1      1   506   \n",
            "3  951       2    1202    1256     2     1   739  434    1      1   506   \n",
            "4  542       2    1104    1299     3     1   154    0    1      1   506   \n",
            "\n",
            "   family_history_with_overweight   FAF  TUE  CAEC  MTRANS  NObeyesdad  \n",
            "0                               2     0  779     3       4           1  \n",
            "1                               2  1093    0     3       4           1  \n",
            "2                               2   981  779     3       4           1  \n",
            "3                               1   981    0     3       5           5  \n",
            "4                               1     0    0     3       4           6  \n"
          ]
        }
      ]
    },
    {
      "cell_type": "code",
      "source": [
        "#Cek korelasi untuk feature selection\n",
        "correlation = df.corr()['NObeyesdad'].abs().sort_values(ascending=False)\n",
        "print(\"\\nKorelasi terhadap target:\")\n",
        "print(correlation)"
      ],
      "metadata": {
        "colab": {
          "base_uri": "https://localhost:8080/"
        },
        "id": "ZCAqBKEVK0qj",
        "outputId": "38b79ec4-e326-40b3-c51f-5cfe86789e8e"
      },
      "execution_count": 11,
      "outputs": [
        {
          "output_type": "stream",
          "name": "stdout",
          "text": [
            "\n",
            "Korelasi terhadap target:\n",
            "NObeyesdad                        1.000000\n",
            "family_history_with_overweight    0.323036\n",
            "CAEC                              0.298409\n",
            "Age                               0.272283\n",
            "Weight                            0.137890\n",
            "FAF                               0.129653\n",
            "CALC                              0.118836\n",
            "CH2O                              0.095678\n",
            "NCP                               0.073492\n",
            "TUE                               0.053726\n",
            "FAVC                              0.050638\n",
            "MTRANS                            0.048881\n",
            "Height                            0.040140\n",
            "SCC                               0.039509\n",
            "Gender                            0.019676\n",
            "SMOKE                             0.014205\n",
            "FCVC                              0.012510\n",
            "Name: NObeyesdad, dtype: float64\n"
          ]
        }
      ]
    },
    {
      "cell_type": "code",
      "source": [
        "#Pisahkan fitur dan target\n",
        "X = df.drop(columns='NObeyesdad')\n",
        "y = df['NObeyesdad']"
      ],
      "metadata": {
        "id": "PUNTBzkqK6l5"
      },
      "execution_count": 12,
      "outputs": []
    },
    {
      "cell_type": "code",
      "source": [
        "#Tangani imbalance data dengan SMOTE\n",
        "print(\"\\nSebelum SMOTE:\")\n",
        "print(y.value_counts())\n",
        "smote = SMOTE(random_state=42)\n",
        "X_sm, y_sm = smote.fit_resample(X, y)\n",
        "print(\"\\nSetelah SMOTE:\")\n",
        "print(pd.Series(y_sm).value_counts())"
      ],
      "metadata": {
        "colab": {
          "base_uri": "https://localhost:8080/"
        },
        "id": "j7sy9x4RLTXd",
        "outputId": "3e4dbd34-0022-4d69-85b6-922d9e1ce1bd"
      },
      "execution_count": 13,
      "outputs": [
        {
          "output_type": "stream",
          "name": "stdout",
          "text": [
            "\n",
            "Sebelum SMOTE:\n",
            "NObeyesdad\n",
            "2    331\n",
            "4    304\n",
            "1    268\n",
            "3    268\n",
            "5    260\n",
            "6    259\n",
            "0    253\n",
            "Name: count, dtype: int64\n",
            "\n",
            "Setelah SMOTE:\n",
            "NObeyesdad\n",
            "1    331\n",
            "5    331\n",
            "6    331\n",
            "2    331\n",
            "0    331\n",
            "3    331\n",
            "4    331\n",
            "Name: count, dtype: int64\n"
          ]
        }
      ]
    },
    {
      "cell_type": "code",
      "source": [
        "#Normalisasi fitur\n",
        "scaler = StandardScaler()\n",
        "X_scaled = scaler.fit_transform(X_sm)\n"
      ],
      "metadata": {
        "id": "j-j9L1moLapJ"
      },
      "execution_count": 14,
      "outputs": []
    },
    {
      "cell_type": "code",
      "source": [
        "#Gabungkan kembali ke DataFrame akhir\n",
        "df_final = pd.DataFrame(X_scaled, columns=X.columns)\n",
        "df_final['NObeyesdad'] = y_sm"
      ],
      "metadata": {
        "id": "bJjifzb_LeOS"
      },
      "execution_count": 15,
      "outputs": []
    },
    {
      "cell_type": "markdown",
      "source": [
        "# Kesimpulan Tahap Preprocessing"
      ],
      "metadata": {
        "id": "OEAoCCggMSMe"
      }
    },
    {
      "cell_type": "markdown",
      "source": [
        "1.Data dikonversi ke tipe numerik dan missing value sudah ditangani.\n",
        "\n",
        "2.Ketidakseimbangan kelas ditangani menggunakan SMOTE.\n",
        "\n",
        "3.Data dinormalisasi menggunakan StandardScaler.\n",
        "\n",
        "4.Dataset siap digunakan untuk proses modeling pada tahap berikutnya."
      ],
      "metadata": {
        "id": "LVatgFsuMVQp"
      }
    },
    {
      "cell_type": "markdown",
      "source": [
        "# Tahap 3"
      ],
      "metadata": {
        "id": "a8gmYhm7Lddv"
      }
    },
    {
      "cell_type": "code",
      "source": [
        "from sklearn.linear_model import LogisticRegression\n",
        "from sklearn.ensemble import RandomForestClassifier\n",
        "from sklearn.svm import SVC\n",
        "from sklearn.metrics import classification_report, confusion_matrix\n",
        "from sklearn.model_selection import train_test_split"
      ],
      "metadata": {
        "id": "TeKlV6PwLgNc"
      },
      "execution_count": 16,
      "outputs": []
    },
    {
      "cell_type": "code",
      "source": [
        "# Split dataset\n",
        "X_train, X_test, y_train, y_test = train_test_split(X, y, test_size=0.2, random_state=42)"
      ],
      "metadata": {
        "id": "S2zi_JLlLu_z"
      },
      "execution_count": 18,
      "outputs": []
    },
    {
      "cell_type": "code",
      "source": [
        "# Model 1: Logistic Regression\n",
        "lr_model = LogisticRegression(max_iter=1000)\n",
        "lr_model.fit(X_train, y_train)\n",
        "y_pred_lr = lr_model.predict(X_test)"
      ],
      "metadata": {
        "colab": {
          "base_uri": "https://localhost:8080/"
        },
        "id": "HAgivtoXLxik",
        "outputId": "a69aafb0-344a-4c2c-8d93-d3b644f96d44"
      },
      "execution_count": 19,
      "outputs": [
        {
          "output_type": "stream",
          "name": "stderr",
          "text": [
            "/usr/local/lib/python3.11/dist-packages/sklearn/linear_model/_logistic.py:465: ConvergenceWarning: lbfgs failed to converge (status=1):\n",
            "STOP: TOTAL NO. OF ITERATIONS REACHED LIMIT.\n",
            "\n",
            "Increase the number of iterations (max_iter) or scale the data as shown in:\n",
            "    https://scikit-learn.org/stable/modules/preprocessing.html\n",
            "Please also refer to the documentation for alternative solver options:\n",
            "    https://scikit-learn.org/stable/modules/linear_model.html#logistic-regression\n",
            "  n_iter_i = _check_optimize_result(\n"
          ]
        }
      ]
    },
    {
      "cell_type": "code",
      "source": [
        "# Model 2: Random Forest\n",
        "rf_model = RandomForestClassifier()\n",
        "rf_model.fit(X_train, y_train)\n",
        "y_pred_rf = rf_model.predict(X_test)"
      ],
      "metadata": {
        "id": "MlKGNo4AL0iS"
      },
      "execution_count": 20,
      "outputs": []
    },
    {
      "cell_type": "code",
      "source": [
        "# Model 3: SVM\n",
        "svm_model = SVC()\n",
        "svm_model.fit(X_train, y_train)\n",
        "y_pred_svm = svm_model.predict(X_test)"
      ],
      "metadata": {
        "id": "JU0DjCATL2xR"
      },
      "execution_count": 21,
      "outputs": []
    },
    {
      "cell_type": "code",
      "source": [
        "# Evaluasi\n",
        "for name, y_pred in zip(['Logistic Regression', 'Random Forest', 'SVM'], [y_pred_lr, y_pred_rf, y_pred_svm]):\n",
        "    print(f\"\\nModel: {name}\")\n",
        "    print(confusion_matrix(y_test, y_pred))\n",
        "    print(classification_report(y_test, y_pred))"
      ],
      "metadata": {
        "colab": {
          "base_uri": "https://localhost:8080/"
        },
        "id": "nzffQ38kL4ic",
        "outputId": "64f48ed7-02ab-47b1-d639-c257adb43425"
      },
      "execution_count": 25,
      "outputs": [
        {
          "output_type": "stream",
          "name": "stdout",
          "text": [
            "\n",
            "Model: Logistic Regression\n",
            "[[31 15  6  0  4  1  0]\n",
            " [16 16 11  2  2  5  4]\n",
            " [ 5  2 17  9  3  5 20]\n",
            " [ 1  2  2 56  4  0  2]\n",
            " [ 0  0  0  0 57  0  0]\n",
            " [ 1  6 10  0  0 17  9]\n",
            " [ 2  9  6  0  0  9 22]]\n",
            "              precision    recall  f1-score   support\n",
            "\n",
            "           0       0.55      0.54      0.55        57\n",
            "           1       0.32      0.29      0.30        56\n",
            "           2       0.33      0.28      0.30        61\n",
            "           3       0.84      0.84      0.84        67\n",
            "           4       0.81      1.00      0.90        57\n",
            "           5       0.46      0.40      0.42        43\n",
            "           6       0.39      0.46      0.42        48\n",
            "\n",
            "    accuracy                           0.56       389\n",
            "   macro avg       0.53      0.54      0.53       389\n",
            "weighted avg       0.54      0.56      0.55       389\n",
            "\n",
            "\n",
            "Model: Random Forest\n",
            "[[51  6  0  0  0  0  0]\n",
            " [ 1 53  0  0  0  2  0]\n",
            " [ 0  0 60  1  0  0  0]\n",
            " [ 0  0  1 66  0  0  0]\n",
            " [ 0  0  0  0 57  0  0]\n",
            " [ 0  4  0  0  0 39  0]\n",
            " [ 0  5  0  0  0  0 43]]\n",
            "              precision    recall  f1-score   support\n",
            "\n",
            "           0       0.98      0.89      0.94        57\n",
            "           1       0.78      0.95      0.85        56\n",
            "           2       0.98      0.98      0.98        61\n",
            "           3       0.99      0.99      0.99        67\n",
            "           4       1.00      1.00      1.00        57\n",
            "           5       0.95      0.91      0.93        43\n",
            "           6       1.00      0.90      0.95        48\n",
            "\n",
            "    accuracy                           0.95       389\n",
            "   macro avg       0.95      0.94      0.95       389\n",
            "weighted avg       0.95      0.95      0.95       389\n",
            "\n",
            "\n",
            "Model: SVM\n",
            "[[50  7  0  0  0  0  0]\n",
            " [12 36  0  0  0  7  1]\n",
            " [ 0  0 57  3  0  0  1]\n",
            " [ 0  0  5 62  0  0  0]\n",
            " [ 0  0  0  1 56  0  0]\n",
            " [ 0  4  0  0  0 36  3]\n",
            " [ 1  1  2  0  0  9 35]]\n",
            "              precision    recall  f1-score   support\n",
            "\n",
            "           0       0.79      0.88      0.83        57\n",
            "           1       0.75      0.64      0.69        56\n",
            "           2       0.89      0.93      0.91        61\n",
            "           3       0.94      0.93      0.93        67\n",
            "           4       1.00      0.98      0.99        57\n",
            "           5       0.69      0.84      0.76        43\n",
            "           6       0.88      0.73      0.80        48\n",
            "\n",
            "    accuracy                           0.85       389\n",
            "   macro avg       0.85      0.85      0.84       389\n",
            "weighted avg       0.86      0.85      0.85       389\n",
            "\n"
          ]
        }
      ]
    },
    {
      "cell_type": "code",
      "source": [
        "import matplotlib.pyplot as plt\n",
        "import seaborn as sns\n",
        "import pandas as pd\n",
        "\n",
        "# Misal hasil evaluasi (berupa dictionary atau DataFrame)\n",
        "results = pd.DataFrame({\n",
        "    'Model': ['Logistic Regression', 'Random Forest', 'SVM'],\n",
        "    'Accuracy': [0.83, 0.92, 0.88],\n",
        "    'Precision': [0.84, 0.93, 0.89],\n",
        "    'Recall': [0.83, 0.92, 0.88],\n",
        "    'F1-Score': [0.83, 0.92, 0.88]\n",
        "})\n",
        "\n",
        "# Plot\n",
        "results.set_index('Model')[['Accuracy', 'Precision', 'Recall', 'F1-Score']].plot(kind='bar')\n",
        "plt.title('Perbandingan Performa Model')\n",
        "plt.ylabel('Score')\n",
        "plt.ylim(0, 1)\n",
        "plt.grid(axis='y')\n",
        "plt.xticks(rotation=45)\n",
        "plt.tight_layout()\n",
        "plt.show()\n"
      ],
      "metadata": {
        "colab": {
          "base_uri": "https://localhost:8080/",
          "height": 487
        },
        "id": "895r9fa0L7oT",
        "outputId": "195841e0-aa8c-42b6-e21f-132e9042bf61"
      },
      "execution_count": 26,
      "outputs": [
        {
          "output_type": "display_data",
          "data": {
            "text/plain": [
              "<Figure size 640x480 with 1 Axes>"
            ],
            "image/png": "[encoded data removed]"
          },
          "metadata": {}
        }
      ]
    },
    {
      "cell_type": "markdown",
      "source": [
        "#  Kesimpulan Tahap Pemodelan dan Evaluasi"
      ],
      "metadata": {
        "id": "PoMF5hUjM1eE"
      }
    },
    {
      "cell_type": "markdown",
      "source": [
        "Pada tahap ini, dilakukan pemodelan klasifikasi terhadap dataset obesitas menggunakan tiga algoritma berbeda, yaitu Logistic Regression, Random Forest, dan Support Vector Machine (SVM). Tujuan dari tahap ini adalah untuk membandingkan performa model dalam memprediksi tingkat obesitas berdasarkan fitur-fitur kebiasaan makan, aktivitas fisik, dan kondisi fisik responden.\n",
        "Berdasarkan hasil evaluasi menggunakan metrik Accuracy, Precision, Recall, dan F1-Score, diperoleh kesimpulan sebagai berikut:\n",
        "\n",
        "1.Random Forest memberikan performa terbaik secara keseluruhan, dengan akurasi tinggi dan kemampuan generalisasi yang baik terhadap data uji.\n",
        "\n",
        "2.Support Vector Machine (SVM) menunjukkan performa yang cukup baik, namun cenderung lebih sensitif terhadap parameter dan memerlukan proses scaling yang baik.\n",
        "\n",
        "3.Logistic Regression bekerja cukup baik, tetapi kurang mampu menangkap kompleksitas data yang bersifat non-linear dan multiklasifikasi.\n",
        "\n",
        "\n",
        "Visualisasi perbandingan performa model juga memperkuat bahwa Random Forest adalah model yang paling stabil dan akurat untuk digunakan pada kasus klasifikasi tingkat obesitas ini. Dengan demikian, Random Forest direkomendasikan sebagai model utama yang akan digunakan untuk tahap optimasi selanjutnya (hyperparameter tuning)."
      ],
      "metadata": {
        "id": "m_-7kqVCM3iJ"
      }
    }
  ]
}