{
  "nbformat": 4,
  "nbformat_minor": 0,
  "metadata": {
    "colab": {
      "provenance": [],
      "authorship_tag": "ABX9TyPTj6cy7y+OeFVeuna1bzvq",
      "include_colab_link": true
    },
    "kernelspec": {
      "name": "python3",
      "display_name": "Python 3"
    },
    "language_info": {
      "name": "python"
    }
  },
  "cells": [
    {
      "cell_type": "markdown",
      "metadata": {
        "id": "view-in-github",
        "colab_type": "text"
      },
      "source": [
        "<a href=\"https://colab.research.google.com/github/esadhipars/BENGKOD/blob/main/UAS_BENGKOD.ipynb\" target=\"_parent\"><img src=\"https://colab.research.google.com/assets/colab-badge.svg\" alt=\"Open In Colab\"/></a>"
      ]
    },
    {
      "cell_type": "markdown",
      "source": [
        "#Tahap 1"
      ],
      "metadata": {
        "id": "9Fmc-eGkN-_k"
      }
    },
    {
      "cell_type": "code",
      "source": [
        "import pandas as pd\n",
        "import numpy as np\n",
        "import matplotlib.pyplot as plt\n",
        "import seaborn as sns\n",
        "from sklearn.preprocessing import LabelEncoder, StandardScaler\n",
        "from imblearn.over_sampling import SMOTE\n",
        "from scipy import stats\n",
        "from sklearn.linear_model import LogisticRegression\n",
        "from sklearn.ensemble import RandomForestClassifier\n",
        "from sklearn.svm import SVC\n",
        "from sklearn.metrics import classification_report, confusion_matrix\n",
        "from sklearn.model_selection import train_test_split"
      ],
      "metadata": {
        "id": "j3uwy87JOEQX"
      },
      "execution_count": 27,
      "outputs": []
    },
    {
      "cell_type": "code",
      "source": [
        "from google.colab import drive\n",
        "drive.mount('/content/drive')"
      ],
      "metadata": {
        "id": "zXMMG0rdOh6b",
        "outputId": "a24433ac-915c-433e-e82a-18dbbd617ee3",
        "colab": {
          "base_uri": "https://localhost:8080/"
        }
      },
      "execution_count": 28,
      "outputs": [
        {
          "output_type": "stream",
          "name": "stdout",
          "text": [
            "Drive already mounted at /content/drive; to attempt to forcibly remount, call drive.mount(\"/content/drive\", force_remount=True).\n"
          ]
        }
      ]
    },
    {
      "cell_type": "code",
      "source": [
        "df = pd.read_csv('/content/drive/MyDrive/projek bengkod/ObesityDataSet.csv')\n",
        "print(\"Jumlah baris dan kolom:\", df.shape)"
      ],
      "metadata": {
        "colab": {
          "base_uri": "https://localhost:8080/"
        },
        "id": "CIHm7CvPJ8v9",
        "outputId": "262c2920-c687-4f3f-fa4c-4b11dae18166"
      },
      "execution_count": 3,
      "outputs": [
        {
          "output_type": "stream",
          "name": "stdout",
          "text": [
            "Jumlah baris dan kolom: (2111, 17)\n"
          ]
        }
      ]
    },
    {
      "cell_type": "code",
      "source": [
        "#Tampilkan beberapa baris pertama dataset\n",
        "print(\"Preview Data:\")\n",
        "display(df.head())"
      ],
      "metadata": {
        "id": "sgSno3l8OkvZ",
        "outputId": "c6d73fe2-9e77-499e-c79d-cc736de9b121",
        "colab": {
          "base_uri": "https://localhost:8080/",
          "height": 224
        }
      },
      "execution_count": 29,
      "outputs": [
        {
          "output_type": "stream",
          "name": "stdout",
          "text": [
            "Preview Data:\n"
          ]
        },
        {
          "output_type": "display_data",
          "data": {
            "text/plain": [
              "   Age  Gender  Height  Weight  CALC  FAVC  FCVC  NCP  SCC  SMOKE  CH2O  \\\n",
              "0  377       1     276     891     4     1   154  434    1      1   506   \n",
              "1  377       1      25     823     3     1   739  434    2      2  1169   \n",
              "2  655       2    1202    1019     2     1   154  434    1      1   506   \n",
              "3  951       2    1202    1256     2     1   739  434    1      1   506   \n",
              "4  542       2    1104    1299     3     1   154    0    1      1   506   \n",
              "\n",
              "   family_history_with_overweight   FAF  TUE  CAEC  MTRANS  NObeyesdad  \n",
              "0                               2     0  779     3       4           1  \n",
              "1                               2  1093    0     3       4           1  \n",
              "2                               2   981  779     3       4           1  \n",
              "3                               1   981    0     3       5           5  \n",
              "4                               1     0    0     3       4           6  "
            ],
            "text/html": [
              "\n",
              "  <div id=\"df-62ba6c4f-a860-4195-b3d6-4725f3ab7625\" class=\"colab-df-container\">\n",
              "    <div>\n",
              "<style scoped>\n",
              "    .dataframe tbody tr th:only-of-type {\n",
              "        vertical-align: middle;\n",
              "    }\n",
              "\n",
              "    .dataframe tbody tr th {\n",
              "        vertical-align: top;\n",
              "    }\n",
              "\n",
              "    .dataframe thead th {\n",
              "        text-align: right;\n",
              "    }\n",
              "</style>\n",
              "<table border=\"1\" class=\"dataframe\">\n",
              "  <thead>\n",
              "    <tr style=\"text-align: right;\">\n",
              "      <th></th>\n",
              "      <th>Age</th>\n",
              "      <th>Gender</th>\n",
              "      <th>Height</th>\n",
              "      <th>Weight</th>\n",
              "      <th>CALC</th>\n",
              "      <th>FAVC</th>\n",
              "      <th>FCVC</th>\n",
              "      <th>NCP</th>\n",
              "      <th>SCC</th>\n",
              "      <th>SMOKE</th>\n",
              "      <th>CH2O</th>\n",
              "      <th>family_history_with_overweight</th>\n",
              "      <th>FAF</th>\n",
              "      <th>TUE</th>\n",
              "      <th>CAEC</th>\n",
              "      <th>MTRANS</th>\n",
              "      <th>NObeyesdad</th>\n",
              "    </tr>\n",
              "  </thead>\n",
              "  <tbody>\n",
              "    <tr>\n",
              "      <th>0</th>\n",
              "      <td>377</td>\n",
              "      <td>1</td>\n",
              "      <td>276</td>\n",
              "      <td>891</td>\n",
              "      <td>4</td>\n",
              "      <td>1</td>\n",
              "      <td>154</td>\n",
              "      <td>434</td>\n",
              "      <td>1</td>\n",
              "      <td>1</td>\n",
              "      <td>506</td>\n",
              "      <td>2</td>\n",
              "      <td>0</td>\n",
              "      <td>779</td>\n",
              "      <td>3</td>\n",
              "      <td>4</td>\n",
              "      <td>1</td>\n",
              "    </tr>\n",
              "    <tr>\n",
              "      <th>1</th>\n",
              "      <td>377</td>\n",
              "      <td>1</td>\n",
              "      <td>25</td>\n",
              "      <td>823</td>\n",
              "      <td>3</td>\n",
              "      <td>1</td>\n",
              "      <td>739</td>\n",
              "      <td>434</td>\n",
              "      <td>2</td>\n",
              "      <td>2</td>\n",
              "      <td>1169</td>\n",
              "      <td>2</td>\n",
              "      <td>1093</td>\n",
              "      <td>0</td>\n",
              "      <td>3</td>\n",
              "      <td>4</td>\n",
              "      <td>1</td>\n",
              "    </tr>\n",
              "    <tr>\n",
              "      <th>2</th>\n",
              "      <td>655</td>\n",
              "      <td>2</td>\n",
              "      <td>1202</td>\n",
              "      <td>1019</td>\n",
              "      <td>2</td>\n",
              "      <td>1</td>\n",
              "      <td>154</td>\n",
              "      <td>434</td>\n",
              "      <td>1</td>\n",
              "      <td>1</td>\n",
              "      <td>506</td>\n",
              "      <td>2</td>\n",
              "      <td>981</td>\n",
              "      <td>779</td>\n",
              "      <td>3</td>\n",
              "      <td>4</td>\n",
              "      <td>1</td>\n",
              "    </tr>\n",
              "    <tr>\n",
              "      <th>3</th>\n",
              "      <td>951</td>\n",
              "      <td>2</td>\n",
              "      <td>1202</td>\n",
              "      <td>1256</td>\n",
              "      <td>2</td>\n",
              "      <td>1</td>\n",
              "      <td>739</td>\n",
              "      <td>434</td>\n",
              "      <td>1</td>\n",
              "      <td>1</td>\n",
              "      <td>506</td>\n",
              "      <td>1</td>\n",
              "      <td>981</td>\n",
              "      <td>0</td>\n",
              "      <td>3</td>\n",
              "      <td>5</td>\n",
              "      <td>5</td>\n",
              "    </tr>\n",
              "    <tr>\n",
              "      <th>4</th>\n",
              "      <td>542</td>\n",
              "      <td>2</td>\n",
              "      <td>1104</td>\n",
              "      <td>1299</td>\n",
              "      <td>3</td>\n",
              "      <td>1</td>\n",
              "      <td>154</td>\n",
              "      <td>0</td>\n",
              "      <td>1</td>\n",
              "      <td>1</td>\n",
              "      <td>506</td>\n",
              "      <td>1</td>\n",
              "      <td>0</td>\n",
              "      <td>0</td>\n",
              "      <td>3</td>\n",
              "      <td>4</td>\n",
              "      <td>6</td>\n",
              "    </tr>\n",
              "  </tbody>\n",
              "</table>\n",
              "</div>\n",
              "    <div class=\"colab-df-buttons\">\n",
              "\n",
              "  <div class=\"colab-df-container\">\n",
              "    <button class=\"colab-df-convert\" onclick=\"convertToInteractive('df-62ba6c4f-a860-4195-b3d6-4725f3ab7625')\"\n",
              "            title=\"Convert this dataframe to an interactive table.\"\n",
              "            style=\"display:none;\">\n",
              "\n",
              "  <svg xmlns=\"http://www.w3.org/2000/svg\" height=\"24px\" viewBox=\"0 -960 960 960\">\n",
              "    <path d=\"M120-120v-720h720v720H120Zm60-500h600v-160H180v160Zm220 220h160v-160H400v160Zm0 220h160v-160H400v160ZM180-400h160v-160H180v160Zm440 0h160v-160H620v160ZM180-180h160v-160H180v160Zm440 0h160v-160H620v160Z\"/>\n",
              "  </svg>\n",
              "    </button>\n",
              "\n",
              "  <style>\n",
              "    .colab-df-container {\n",
              "      display:flex;\n",
              "      gap: 12px;\n",
              "    }\n",
              "\n",
              "    .colab-df-convert {\n",
              "      background-color: #E8F0FE;\n",
              "      border: none;\n",
              "      border-radius: 50%;\n",
              "      cursor: pointer;\n",
              "      display: none;\n",
              "      fill: #1967D2;\n",
              "      height: 32px;\n",
              "      padding: 0 0 0 0;\n",
              "      width: 32px;\n",
              "    }\n",
              "\n",
              "    .colab-df-convert:hover {\n",
              "      background-color: #E2EBFA;\n",
              "      box-shadow: 0px 1px 2px rgba(60, 64, 67, 0.3), 0px 1px 3px 1px rgba(60, 64, 67, 0.15);\n",
              "      fill: #174EA6;\n",
              "    }\n",
              "\n",
              "    .colab-df-buttons div {\n",
              "      margin-bottom: 4px;\n",
              "    }\n",
              "\n",
              "    [theme=dark] .colab-df-convert {\n",
              "      background-color: #3B4455;\n",
              "      fill: #D2E3FC;\n",
              "    }\n",
              "\n",
              "    [theme=dark] .colab-df-convert:hover {\n",
              "      background-color: #434B5C;\n",
              "      box-shadow: 0px 1px 3px 1px rgba(0, 0, 0, 0.15);\n",
              "      filter: drop-shadow(0px 1px 2px rgba(0, 0, 0, 0.3));\n",
              "      fill: #FFFFFF;\n",
              "    }\n",
              "  </style>\n",
              "\n",
              "    <script>\n",
              "      const buttonEl =\n",
              "        document.querySelector('#df-62ba6c4f-a860-4195-b3d6-4725f3ab7625 button.colab-df-convert');\n",
              "      buttonEl.style.display =\n",
              "        google.colab.kernel.accessAllowed ? 'block' : 'none';\n",
              "\n",
              "      async function convertToInteractive(key) {\n",
              "        const element = document.querySelector('#df-62ba6c4f-a860-4195-b3d6-4725f3ab7625');\n",
              "        const dataTable =\n",
              "          await google.colab.kernel.invokeFunction('convertToInteractive',\n",
              "                                                    [key], {});\n",
              "        if (!dataTable) return;\n",
              "\n",
              "        const docLinkHtml = 'Like what you see? Visit the ' +\n",
              "          '<a target=\"_blank\" href=https://colab.research.google.com/notebooks/data_table.ipynb>data table notebook</a>'\n",
              "          + ' to learn more about interactive tables.';\n",
              "        element.innerHTML = '';\n",
              "        dataTable['output_type'] = 'display_data';\n",
              "        await google.colab.output.renderOutput(dataTable, element);\n",
              "        const docLink = document.createElement('div');\n",
              "        docLink.innerHTML = docLinkHtml;\n",
              "        element.appendChild(docLink);\n",
              "      }\n",
              "    </script>\n",
              "  </div>\n",
              "\n",
              "\n",
              "    <div id=\"df-1808ebb5-4c97-4fcd-aaf7-efad37e68c10\">\n",
              "      <button class=\"colab-df-quickchart\" onclick=\"quickchart('df-1808ebb5-4c97-4fcd-aaf7-efad37e68c10')\"\n",
              "                title=\"Suggest charts\"\n",
              "                style=\"display:none;\">\n",
              "\n",
              "<svg xmlns=\"http://www.w3.org/2000/svg\" height=\"24px\"viewBox=\"0 0 24 24\"\n",
              "     width=\"24px\">\n",
              "    <g>\n",
              "        <path d=\"M19 3H5c-1.1 0-2 .9-2 2v14c0 1.1.9 2 2 2h14c1.1 0 2-.9 2-2V5c0-1.1-.9-2-2-2zM9 17H7v-7h2v7zm4 0h-2V7h2v10zm4 0h-2v-4h2v4z\"/>\n",
              "    </g>\n",
              "</svg>\n",
              "      </button>\n",
              "\n",
              "<style>\n",
              "  .colab-df-quickchart {\n",
              "      --bg-color: #E8F0FE;\n",
              "      --fill-color: #1967D2;\n",
              "      --hover-bg-color: #E2EBFA;\n",
              "      --hover-fill-color: #174EA6;\n",
              "      --disabled-fill-color: #AAA;\n",
              "      --disabled-bg-color: #DDD;\n",
              "  }\n",
              "\n",
              "  [theme=dark] .colab-df-quickchart {\n",
              "      --bg-color: #3B4455;\n",
              "      --fill-color: #D2E3FC;\n",
              "      --hover-bg-color: #434B5C;\n",
              "      --hover-fill-color: #FFFFFF;\n",
              "      --disabled-bg-color: #3B4455;\n",
              "      --disabled-fill-color: #666;\n",
              "  }\n",
              "\n",
              "  .colab-df-quickchart {\n",
              "    background-color: var(--bg-color);\n",
              "    border: none;\n",
              "    border-radius: 50%;\n",
              "    cursor: pointer;\n",
              "    display: none;\n",
              "    fill: var(--fill-color);\n",
              "    height: 32px;\n",
              "    padding: 0;\n",
              "    width: 32px;\n",
              "  }\n",
              "\n",
              "  .colab-df-quickchart:hover {\n",
              "    background-color: var(--hover-bg-color);\n",
              "    box-shadow: 0 1px 2px rgba(60, 64, 67, 0.3), 0 1px 3px 1px rgba(60, 64, 67, 0.15);\n",
              "    fill: var(--button-hover-fill-color);\n",
              "  }\n",
              "\n",
              "  .colab-df-quickchart-complete:disabled,\n",
              "  .colab-df-quickchart-complete:disabled:hover {\n",
              "    background-color: var(--disabled-bg-color);\n",
              "    fill: var(--disabled-fill-color);\n",
              "    box-shadow: none;\n",
              "  }\n",
              "\n",
              "  .colab-df-spinner {\n",
              "    border: 2px solid var(--fill-color);\n",
              "    border-color: transparent;\n",
              "    border-bottom-color: var(--fill-color);\n",
              "    animation:\n",
              "      spin 1s steps(1) infinite;\n",
              "  }\n",
              "\n",
              "  @keyframes spin {\n",
              "    0% {\n",
              "      border-color: transparent;\n",
              "      border-bottom-color: var(--fill-color);\n",
              "      border-left-color: var(--fill-color);\n",
              "    }\n",
              "    20% {\n",
              "      border-color: transparent;\n",
              "      border-left-color: var(--fill-color);\n",
              "      border-top-color: var(--fill-color);\n",
              "    }\n",
              "    30% {\n",
              "      border-color: transparent;\n",
              "      border-left-color: var(--fill-color);\n",
              "      border-top-color: var(--fill-color);\n",
              "      border-right-color: var(--fill-color);\n",
              "    }\n",
              "    40% {\n",
              "      border-color: transparent;\n",
              "      border-right-color: var(--fill-color);\n",
              "      border-top-color: var(--fill-color);\n",
              "    }\n",
              "    60% {\n",
              "      border-color: transparent;\n",
              "      border-right-color: var(--fill-color);\n",
              "    }\n",
              "    80% {\n",
              "      border-color: transparent;\n",
              "      border-right-color: var(--fill-color);\n",
              "      border-bottom-color: var(--fill-color);\n",
              "    }\n",
              "    90% {\n",
              "      border-color: transparent;\n",
              "      border-bottom-color: var(--fill-color);\n",
              "    }\n",
              "  }\n",
              "</style>\n",
              "\n",
              "      <script>\n",
              "        async function quickchart(key) {\n",
              "          const quickchartButtonEl =\n",
              "            document.querySelector('#' + key + ' button');\n",
              "          quickchartButtonEl.disabled = true;  // To prevent multiple clicks.\n",
              "          quickchartButtonEl.classList.add('colab-df-spinner');\n",
              "          try {\n",
              "            const charts = await google.colab.kernel.invokeFunction(\n",
              "                'suggestCharts', [key], {});\n",
              "          } catch (error) {\n",
              "            console.error('Error during call to suggestCharts:', error);\n",
              "          }\n",
              "          quickchartButtonEl.classList.remove('colab-df-spinner');\n",
              "          quickchartButtonEl.classList.add('colab-df-quickchart-complete');\n",
              "        }\n",
              "        (() => {\n",
              "          let quickchartButtonEl =\n",
              "            document.querySelector('#df-1808ebb5-4c97-4fcd-aaf7-efad37e68c10 button');\n",
              "          quickchartButtonEl.style.display =\n",
              "            google.colab.kernel.accessAllowed ? 'block' : 'none';\n",
              "        })();\n",
              "      </script>\n",
              "    </div>\n",
              "\n",
              "    </div>\n",
              "  </div>\n"
            ],
            "application/vnd.google.colaboratory.intrinsic+json": {
              "type": "dataframe",
              "summary": "{\n  \"name\": \"display(df\",\n  \"rows\": 5,\n  \"fields\": [\n    {\n      \"column\": \"Age\",\n      \"properties\": {\n        \"dtype\": \"number\",\n        \"std\": 238,\n        \"min\": 377,\n        \"max\": 951,\n        \"num_unique_values\": 4,\n        \"samples\": [\n          655,\n          542,\n          377\n        ],\n        \"semantic_type\": \"\",\n        \"description\": \"\"\n      }\n    },\n    {\n      \"column\": \"Gender\",\n      \"properties\": {\n        \"dtype\": \"number\",\n        \"std\": 0,\n        \"min\": 1,\n        \"max\": 2,\n        \"num_unique_values\": 2,\n        \"samples\": [\n          2,\n          1\n        ],\n        \"semantic_type\": \"\",\n        \"description\": \"\"\n      }\n    },\n    {\n      \"column\": \"Height\",\n      \"properties\": {\n        \"dtype\": \"number\",\n        \"std\": 566,\n        \"min\": 25,\n        \"max\": 1202,\n        \"num_unique_values\": 4,\n        \"samples\": [\n          25,\n          1104\n        ],\n        \"semantic_type\": \"\",\n        \"description\": \"\"\n      }\n    },\n    {\n      \"column\": \"Weight\",\n      \"properties\": {\n        \"dtype\": \"number\",\n        \"std\": 213,\n        \"min\": 823,\n        \"max\": 1299,\n        \"num_unique_values\": 5,\n        \"samples\": [\n          823,\n          1299\n        ],\n        \"semantic_type\": \"\",\n        \"description\": \"\"\n      }\n    },\n    {\n      \"column\": \"CALC\",\n      \"properties\": {\n        \"dtype\": \"number\",\n        \"std\": 0,\n        \"min\": 2,\n        \"max\": 4,\n        \"num_unique_values\": 3,\n        \"samples\": [\n          4,\n          3\n        ],\n        \"semantic_type\": \"\",\n        \"description\": \"\"\n      }\n    },\n    {\n      \"column\": \"FAVC\",\n      \"properties\": {\n        \"dtype\": \"number\",\n        \"std\": 0,\n        \"min\": 1,\n        \"max\": 1,\n        \"num_unique_values\": 1,\n        \"samples\": [\n          1\n        ],\n        \"semantic_type\": \"\",\n        \"description\": \"\"\n      }\n    },\n    {\n      \"column\": \"FCVC\",\n      \"properties\": {\n        \"dtype\": \"number\",\n        \"std\": 320,\n        \"min\": 154,\n        \"max\": 739,\n        \"num_unique_values\": 2,\n        \"samples\": [\n          739\n        ],\n        \"semantic_type\": \"\",\n        \"description\": \"\"\n      }\n    },\n    {\n      \"column\": \"NCP\",\n      \"properties\": {\n        \"dtype\": \"number\",\n        \"std\": 194,\n        \"min\": 0,\n        \"max\": 434,\n        \"num_unique_values\": 2,\n        \"samples\": [\n          0\n        ],\n        \"semantic_type\": \"\",\n        \"description\": \"\"\n      }\n    },\n    {\n      \"column\": \"SCC\",\n      \"properties\": {\n        \"dtype\": \"number\",\n        \"std\": 0,\n        \"min\": 1,\n        \"max\": 2,\n        \"num_unique_values\": 2,\n        \"samples\": [\n          2\n        ],\n        \"semantic_type\": \"\",\n        \"description\": \"\"\n      }\n    },\n    {\n      \"column\": \"SMOKE\",\n      \"properties\": {\n        \"dtype\": \"number\",\n        \"std\": 0,\n        \"min\": 1,\n        \"max\": 2,\n        \"num_unique_values\": 2,\n        \"samples\": [\n          2\n        ],\n        \"semantic_type\": \"\",\n        \"description\": \"\"\n      }\n    },\n    {\n      \"column\": \"CH2O\",\n      \"properties\": {\n        \"dtype\": \"number\",\n        \"std\": 296,\n        \"min\": 506,\n        \"max\": 1169,\n        \"num_unique_values\": 2,\n        \"samples\": [\n          1169\n        ],\n        \"semantic_type\": \"\",\n        \"description\": \"\"\n      }\n    },\n    {\n      \"column\": \"family_history_with_overweight\",\n      \"properties\": {\n        \"dtype\": \"number\",\n        \"std\": 0,\n        \"min\": 1,\n        \"max\": 2,\n        \"num_unique_values\": 2,\n        \"samples\": [\n          1\n        ],\n        \"semantic_type\": \"\",\n        \"description\": \"\"\n      }\n    },\n    {\n      \"column\": \"FAF\",\n      \"properties\": {\n        \"dtype\": \"number\",\n        \"std\": 559,\n        \"min\": 0,\n        \"max\": 1093,\n        \"num_unique_values\": 3,\n        \"samples\": [\n          0\n        ],\n        \"semantic_type\": \"\",\n        \"description\": \"\"\n      }\n    },\n    {\n      \"column\": \"TUE\",\n      \"properties\": {\n        \"dtype\": \"number\",\n        \"std\": 426,\n        \"min\": 0,\n        \"max\": 779,\n        \"num_unique_values\": 2,\n        \"samples\": [\n          0\n        ],\n        \"semantic_type\": \"\",\n        \"description\": \"\"\n      }\n    },\n    {\n      \"column\": \"CAEC\",\n      \"properties\": {\n        \"dtype\": \"number\",\n        \"std\": 0,\n        \"min\": 3,\n        \"max\": 3,\n        \"num_unique_values\": 1,\n        \"samples\": [\n          3\n        ],\n        \"semantic_type\": \"\",\n        \"description\": \"\"\n      }\n    },\n    {\n      \"column\": \"MTRANS\",\n      \"properties\": {\n        \"dtype\": \"number\",\n        \"std\": 0,\n        \"min\": 4,\n        \"max\": 5,\n        \"num_unique_values\": 2,\n        \"samples\": [\n          5\n        ],\n        \"semantic_type\": \"\",\n        \"description\": \"\"\n      }\n    },\n    {\n      \"column\": \"NObeyesdad\",\n      \"properties\": {\n        \"dtype\": \"number\",\n        \"std\": 2,\n        \"min\": 1,\n        \"max\": 6,\n        \"num_unique_values\": 3,\n        \"samples\": [\n          1\n        ],\n        \"semantic_type\": \"\",\n        \"description\": \"\"\n      }\n    }\n  ]\n}"
            }
          },
          "metadata": {}
        }
      ]
    },
    {
      "cell_type": "code",
      "source": [
        "#Informasi umum dataset\n",
        "print(\"\\nInfo Dataset:\")\n",
        "df.info()"
      ],
      "metadata": {
        "id": "plm_9sIzOtFl",
        "outputId": "1ade8181-068b-41ba-c403-21adcca11866",
        "colab": {
          "base_uri": "https://localhost:8080/"
        }
      },
      "execution_count": 30,
      "outputs": [
        {
          "output_type": "stream",
          "name": "stdout",
          "text": [
            "\n",
            "Info Dataset:\n",
            "<class 'pandas.core.frame.DataFrame'>\n",
            "Index: 1943 entries, 0 to 2110\n",
            "Data columns (total 17 columns):\n",
            " #   Column                          Non-Null Count  Dtype\n",
            "---  ------                          --------------  -----\n",
            " 0   Age                             1943 non-null   int64\n",
            " 1   Gender                          1943 non-null   int64\n",
            " 2   Height                          1943 non-null   int64\n",
            " 3   Weight                          1943 non-null   int64\n",
            " 4   CALC                            1943 non-null   int64\n",
            " 5   FAVC                            1943 non-null   int64\n",
            " 6   FCVC                            1943 non-null   int64\n",
            " 7   NCP                             1943 non-null   int64\n",
            " 8   SCC                             1943 non-null   int64\n",
            " 9   SMOKE                           1943 non-null   int64\n",
            " 10  CH2O                            1943 non-null   int64\n",
            " 11  family_history_with_overweight  1943 non-null   int64\n",
            " 12  FAF                             1943 non-null   int64\n",
            " 13  TUE                             1943 non-null   int64\n",
            " 14  CAEC                            1943 non-null   int64\n",
            " 15  MTRANS                          1943 non-null   int64\n",
            " 16  NObeyesdad                      1943 non-null   int64\n",
            "dtypes: int64(17)\n",
            "memory usage: 273.2 KB\n"
          ]
        }
      ]
    },
    {
      "cell_type": "code",
      "source": [
        "#Statistik deskriptif untuk data numerik\n",
        "print(\"\\nDeskripsi Statistik:\")\n",
        "display(df.describe())"
      ],
      "metadata": {
        "id": "Q1zOLHb1O86c",
        "outputId": "f260d7f1-175d-424c-910e-5e421ad1a336",
        "colab": {
          "base_uri": "https://localhost:8080/",
          "height": 356
        }
      },
      "execution_count": 31,
      "outputs": [
        {
          "output_type": "stream",
          "name": "stdout",
          "text": [
            "\n",
            "Deskripsi Statistik:\n"
          ]
        },
        {
          "output_type": "display_data",
          "data": {
            "text/plain": [
              "               Age       Gender       Height       Weight         CALC  \\\n",
              "count  1943.000000  1943.000000  1943.000000  1943.000000  1943.000000   \n",
              "mean    604.568708     1.486361   702.543489   770.168811     3.238806   \n",
              "std     379.590101     0.513158   420.953879   380.089779     0.587895   \n",
              "min       0.000000     0.000000     0.000000     0.000000     0.000000   \n",
              "25%     283.500000     1.000000   338.000000   472.500000     3.000000   \n",
              "50%     614.000000     1.000000   669.000000   827.000000     3.000000   \n",
              "75%     916.000000     2.000000  1062.500000  1071.500000     4.000000   \n",
              "max    1299.000000     2.000000  1459.000000  1416.000000     4.000000   \n",
              "\n",
              "              FAVC         FCVC          NCP          SCC        SMOKE  \\\n",
              "count  1943.000000  1943.000000  1943.000000  1943.000000  1943.000000   \n",
              "mean      1.873392   424.482244   359.128667     1.042203     1.017499   \n",
              "std       0.349234   271.046759   162.184863     0.220639     0.159500   \n",
              "min       0.000000     0.000000     0.000000     0.000000     0.000000   \n",
              "25%       2.000000   154.000000   314.500000     1.000000     1.000000   \n",
              "50%       2.000000   402.000000   434.000000     1.000000     1.000000   \n",
              "75%       2.000000   739.000000   434.000000     1.000000     1.000000   \n",
              "max       2.000000   748.000000   585.000000     2.000000     2.000000   \n",
              "\n",
              "              CH2O  family_history_with_overweight          FAF          TUE  \\\n",
              "count  1943.000000                     1943.000000  1943.000000  1943.000000   \n",
              "mean    556.282553                        1.812661   498.282038   449.494081   \n",
              "std     360.413954                        0.403262   377.526338   374.518033   \n",
              "min       0.000000                        0.000000     0.000000     0.000000   \n",
              "25%     292.500000                        2.000000   101.500000     0.000000   \n",
              "50%     506.000000                        2.000000   536.000000   453.000000   \n",
              "75%     837.500000                        2.000000   859.500000   779.000000   \n",
              "max    1178.000000                        2.000000  1098.000000  1050.000000   \n",
              "\n",
              "              CAEC       MTRANS   NObeyesdad  \n",
              "count  1943.000000  1943.000000  1943.000000  \n",
              "mean      2.837880     3.351004     2.987133  \n",
              "std       0.492964     1.273313     1.946064  \n",
              "min       0.000000     0.000000     0.000000  \n",
              "25%       3.000000     4.000000     1.000000  \n",
              "50%       3.000000     4.000000     3.000000  \n",
              "75%       3.000000     4.000000     5.000000  \n",
              "max       4.000000     5.000000     6.000000  "
            ],
            "text/html": [
              "\n",
              "  <div id=\"df-45485f91-5401-4194-a10b-0ffa61ac8f89\" class=\"colab-df-container\">\n",
              "    <div>\n",
              "<style scoped>\n",
              "    .dataframe tbody tr th:only-of-type {\n",
              "        vertical-align: middle;\n",
              "    }\n",
              "\n",
              "    .dataframe tbody tr th {\n",
              "        vertical-align: top;\n",
              "    }\n",
              "\n",
              "    .dataframe thead th {\n",
              "        text-align: right;\n",
              "    }\n",
              "</style>\n",
              "<table border=\"1\" class=\"dataframe\">\n",
              "  <thead>\n",
              "    <tr style=\"text-align: right;\">\n",
              "      <th></th>\n",
              "      <th>Age</th>\n",
              "      <th>Gender</th>\n",
              "      <th>Height</th>\n",
              "      <th>Weight</th>\n",
              "      <th>CALC</th>\n",
              "      <th>FAVC</th>\n",
              "      <th>FCVC</th>\n",
              "      <th>NCP</th>\n",
              "      <th>SCC</th>\n",
              "      <th>SMOKE</th>\n",
              "      <th>CH2O</th>\n",
              "      <th>family_history_with_overweight</th>\n",
              "      <th>FAF</th>\n",
              "      <th>TUE</th>\n",
              "      <th>CAEC</th>\n",
              "      <th>MTRANS</th>\n",
              "      <th>NObeyesdad</th>\n",
              "    </tr>\n",
              "  </thead>\n",
              "  <tbody>\n",
              "    <tr>\n",
              "      <th>count</th>\n",
              "      <td>1943.000000</td>\n",
              "      <td>1943.000000</td>\n",
              "      <td>1943.000000</td>\n",
              "      <td>1943.000000</td>\n",
              "      <td>1943.000000</td>\n",
              "      <td>1943.000000</td>\n",
              "      <td>1943.000000</td>\n",
              "      <td>1943.000000</td>\n",
              "      <td>1943.000000</td>\n",
              "      <td>1943.000000</td>\n",
              "      <td>1943.000000</td>\n",
              "      <td>1943.000000</td>\n",
              "      <td>1943.000000</td>\n",
              "      <td>1943.000000</td>\n",
              "      <td>1943.000000</td>\n",
              "      <td>1943.000000</td>\n",
              "      <td>1943.000000</td>\n",
              "    </tr>\n",
              "    <tr>\n",
              "      <th>mean</th>\n",
              "      <td>604.568708</td>\n",
              "      <td>1.486361</td>\n",
              "      <td>702.543489</td>\n",
              "      <td>770.168811</td>\n",
              "      <td>3.238806</td>\n",
              "      <td>1.873392</td>\n",
              "      <td>424.482244</td>\n",
              "      <td>359.128667</td>\n",
              "      <td>1.042203</td>\n",
              "      <td>1.017499</td>\n",
              "      <td>556.282553</td>\n",
              "      <td>1.812661</td>\n",
              "      <td>498.282038</td>\n",
              "      <td>449.494081</td>\n",
              "      <td>2.837880</td>\n",
              "      <td>3.351004</td>\n",
              "      <td>2.987133</td>\n",
              "    </tr>\n",
              "    <tr>\n",
              "      <th>std</th>\n",
              "      <td>379.590101</td>\n",
              "      <td>0.513158</td>\n",
              "      <td>420.953879</td>\n",
              "      <td>380.089779</td>\n",
              "      <td>0.587895</td>\n",
              "      <td>0.349234</td>\n",
              "      <td>271.046759</td>\n",
              "      <td>162.184863</td>\n",
              "      <td>0.220639</td>\n",
              "      <td>0.159500</td>\n",
              "      <td>360.413954</td>\n",
              "      <td>0.403262</td>\n",
              "      <td>377.526338</td>\n",
              "      <td>374.518033</td>\n",
              "      <td>0.492964</td>\n",
              "      <td>1.273313</td>\n",
              "      <td>1.946064</td>\n",
              "    </tr>\n",
              "    <tr>\n",
              "      <th>min</th>\n",
              "      <td>0.000000</td>\n",
              "      <td>0.000000</td>\n",
              "      <td>0.000000</td>\n",
              "      <td>0.000000</td>\n",
              "      <td>0.000000</td>\n",
              "      <td>0.000000</td>\n",
              "      <td>0.000000</td>\n",
              "      <td>0.000000</td>\n",
              "      <td>0.000000</td>\n",
              "      <td>0.000000</td>\n",
              "      <td>0.000000</td>\n",
              "      <td>0.000000</td>\n",
              "      <td>0.000000</td>\n",
              "      <td>0.000000</td>\n",
              "      <td>0.000000</td>\n",
              "      <td>0.000000</td>\n",
              "      <td>0.000000</td>\n",
              "    </tr>\n",
              "    <tr>\n",
              "      <th>25%</th>\n",
              "      <td>283.500000</td>\n",
              "      <td>1.000000</td>\n",
              "      <td>338.000000</td>\n",
              "      <td>472.500000</td>\n",
              "      <td>3.000000</td>\n",
              "      <td>2.000000</td>\n",
              "      <td>154.000000</td>\n",
              "      <td>314.500000</td>\n",
              "      <td>1.000000</td>\n",
              "      <td>1.000000</td>\n",
              "      <td>292.500000</td>\n",
              "      <td>2.000000</td>\n",
              "      <td>101.500000</td>\n",
              "      <td>0.000000</td>\n",
              "      <td>3.000000</td>\n",
              "      <td>4.000000</td>\n",
              "      <td>1.000000</td>\n",
              "    </tr>\n",
              "    <tr>\n",
              "      <th>50%</th>\n",
              "      <td>614.000000</td>\n",
              "      <td>1.000000</td>\n",
              "      <td>669.000000</td>\n",
              "      <td>827.000000</td>\n",
              "      <td>3.000000</td>\n",
              "      <td>2.000000</td>\n",
              "      <td>402.000000</td>\n",
              "      <td>434.000000</td>\n",
              "      <td>1.000000</td>\n",
              "      <td>1.000000</td>\n",
              "      <td>506.000000</td>\n",
              "      <td>2.000000</td>\n",
              "      <td>536.000000</td>\n",
              "      <td>453.000000</td>\n",
              "      <td>3.000000</td>\n",
              "      <td>4.000000</td>\n",
              "      <td>3.000000</td>\n",
              "    </tr>\n",
              "    <tr>\n",
              "      <th>75%</th>\n",
              "      <td>916.000000</td>\n",
              "      <td>2.000000</td>\n",
              "      <td>1062.500000</td>\n",
              "      <td>1071.500000</td>\n",
              "      <td>4.000000</td>\n",
              "      <td>2.000000</td>\n",
              "      <td>739.000000</td>\n",
              "      <td>434.000000</td>\n",
              "      <td>1.000000</td>\n",
              "      <td>1.000000</td>\n",
              "      <td>837.500000</td>\n",
              "      <td>2.000000</td>\n",
              "      <td>859.500000</td>\n",
              "      <td>779.000000</td>\n",
              "      <td>3.000000</td>\n",
              "      <td>4.000000</td>\n",
              "      <td>5.000000</td>\n",
              "    </tr>\n",
              "    <tr>\n",
              "      <th>max</th>\n",
              "      <td>1299.000000</td>\n",
              "      <td>2.000000</td>\n",
              "      <td>1459.000000</td>\n",
              "      <td>1416.000000</td>\n",
              "      <td>4.000000</td>\n",
              "      <td>2.000000</td>\n",
              "      <td>748.000000</td>\n",
              "      <td>585.000000</td>\n",
              "      <td>2.000000</td>\n",
              "      <td>2.000000</td>\n",
              "      <td>1178.000000</td>\n",
              "      <td>2.000000</td>\n",
              "      <td>1098.000000</td>\n",
              "      <td>1050.000000</td>\n",
              "      <td>4.000000</td>\n",
              "      <td>5.000000</td>\n",
              "      <td>6.000000</td>\n",
              "    </tr>\n",
              "  </tbody>\n",
              "</table>\n",
              "</div>\n",
              "    <div class=\"colab-df-buttons\">\n",
              "\n",
              "  <div class=\"colab-df-container\">\n",
              "    <button class=\"colab-df-convert\" onclick=\"convertToInteractive('df-45485f91-5401-4194-a10b-0ffa61ac8f89')\"\n",
              "            title=\"Convert this dataframe to an interactive table.\"\n",
              "            style=\"display:none;\">\n",
              "\n",
              "  <svg xmlns=\"http://www.w3.org/2000/svg\" height=\"24px\" viewBox=\"0 -960 960 960\">\n",
              "    <path d=\"M120-120v-720h720v720H120Zm60-500h600v-160H180v160Zm220 220h160v-160H400v160Zm0 220h160v-160H400v160ZM180-400h160v-160H180v160Zm440 0h160v-160H620v160ZM180-180h160v-160H180v160Zm440 0h160v-160H620v160Z\"/>\n",
              "  </svg>\n",
              "    </button>\n",
              "\n",
              "  <style>\n",
              "    .colab-df-container {\n",
              "      display:flex;\n",
              "      gap: 12px;\n",
              "    }\n",
              "\n",
              "    .colab-df-convert {\n",
              "      background-color: #E8F0FE;\n",
              "      border: none;\n",
              "      border-radius: 50%;\n",
              "      cursor: pointer;\n",
              "      display: none;\n",
              "      fill: #1967D2;\n",
              "      height: 32px;\n",
              "      padding: 0 0 0 0;\n",
              "      width: 32px;\n",
              "    }\n",
              "\n",
              "    .colab-df-convert:hover {\n",
              "      background-color: #E2EBFA;\n",
              "      box-shadow: 0px 1px 2px rgba(60, 64, 67, 0.3), 0px 1px 3px 1px rgba(60, 64, 67, 0.15);\n",
              "      fill: #174EA6;\n",
              "    }\n",
              "\n",
              "    .colab-df-buttons div {\n",
              "      margin-bottom: 4px;\n",
              "    }\n",
              "\n",
              "    [theme=dark] .colab-df-convert {\n",
              "      background-color: #3B4455;\n",
              "      fill: #D2E3FC;\n",
              "    }\n",
              "\n",
              "    [theme=dark] .colab-df-convert:hover {\n",
              "      background-color: #434B5C;\n",
              "      box-shadow: 0px 1px 3px 1px rgba(0, 0, 0, 0.15);\n",
              "      filter: drop-shadow(0px 1px 2px rgba(0, 0, 0, 0.3));\n",
              "      fill: #FFFFFF;\n",
              "    }\n",
              "  </style>\n",
              "\n",
              "    <script>\n",
              "      const buttonEl =\n",
              "        document.querySelector('#df-45485f91-5401-4194-a10b-0ffa61ac8f89 button.colab-df-convert');\n",
              "      buttonEl.style.display =\n",
              "        google.colab.kernel.accessAllowed ? 'block' : 'none';\n",
              "\n",
              "      async function convertToInteractive(key) {\n",
              "        const element = document.querySelector('#df-45485f91-5401-4194-a10b-0ffa61ac8f89');\n",
              "        const dataTable =\n",
              "          await google.colab.kernel.invokeFunction('convertToInteractive',\n",
              "                                                    [key], {});\n",
              "        if (!dataTable) return;\n",
              "\n",
              "        const docLinkHtml = 'Like what you see? Visit the ' +\n",
              "          '<a target=\"_blank\" href=https://colab.research.google.com/notebooks/data_table.ipynb>data table notebook</a>'\n",
              "          + ' to learn more about interactive tables.';\n",
              "        element.innerHTML = '';\n",
              "        dataTable['output_type'] = 'display_data';\n",
              "        await google.colab.output.renderOutput(dataTable, element);\n",
              "        const docLink = document.createElement('div');\n",
              "        docLink.innerHTML = docLinkHtml;\n",
              "        element.appendChild(docLink);\n",
              "      }\n",
              "    </script>\n",
              "  </div>\n",
              "\n",
              "\n",
              "    <div id=\"df-3e4187cc-9ee8-44b3-b2f2-5be3cdb77d88\">\n",
              "      <button class=\"colab-df-quickchart\" onclick=\"quickchart('df-3e4187cc-9ee8-44b3-b2f2-5be3cdb77d88')\"\n",
              "                title=\"Suggest charts\"\n",
              "                style=\"display:none;\">\n",
              "\n",
              "<svg xmlns=\"http://www.w3.org/2000/svg\" height=\"24px\"viewBox=\"0 0 24 24\"\n",
              "     width=\"24px\">\n",
              "    <g>\n",
              "        <path d=\"M19 3H5c-1.1 0-2 .9-2 2v14c0 1.1.9 2 2 2h14c1.1 0 2-.9 2-2V5c0-1.1-.9-2-2-2zM9 17H7v-7h2v7zm4 0h-2V7h2v10zm4 0h-2v-4h2v4z\"/>\n",
              "    </g>\n",
              "</svg>\n",
              "      </button>\n",
              "\n",
              "<style>\n",
              "  .colab-df-quickchart {\n",
              "      --bg-color: #E8F0FE;\n",
              "      --fill-color: #1967D2;\n",
              "      --hover-bg-color: #E2EBFA;\n",
              "      --hover-fill-color: #174EA6;\n",
              "      --disabled-fill-color: #AAA;\n",
              "      --disabled-bg-color: #DDD;\n",
              "  }\n",
              "\n",
              "  [theme=dark] .colab-df-quickchart {\n",
              "      --bg-color: #3B4455;\n",
              "      --fill-color: #D2E3FC;\n",
              "      --hover-bg-color: #434B5C;\n",
              "      --hover-fill-color: #FFFFFF;\n",
              "      --disabled-bg-color: #3B4455;\n",
              "      --disabled-fill-color: #666;\n",
              "  }\n",
              "\n",
              "  .colab-df-quickchart {\n",
              "    background-color: var(--bg-color);\n",
              "    border: none;\n",
              "    border-radius: 50%;\n",
              "    cursor: pointer;\n",
              "    display: none;\n",
              "    fill: var(--fill-color);\n",
              "    height: 32px;\n",
              "    padding: 0;\n",
              "    width: 32px;\n",
              "  }\n",
              "\n",
              "  .colab-df-quickchart:hover {\n",
              "    background-color: var(--hover-bg-color);\n",
              "    box-shadow: 0 1px 2px rgba(60, 64, 67, 0.3), 0 1px 3px 1px rgba(60, 64, 67, 0.15);\n",
              "    fill: var(--button-hover-fill-color);\n",
              "  }\n",
              "\n",
              "  .colab-df-quickchart-complete:disabled,\n",
              "  .colab-df-quickchart-complete:disabled:hover {\n",
              "    background-color: var(--disabled-bg-color);\n",
              "    fill: var(--disabled-fill-color);\n",
              "    box-shadow: none;\n",
              "  }\n",
              "\n",
              "  .colab-df-spinner {\n",
              "    border: 2px solid var(--fill-color);\n",
              "    border-color: transparent;\n",
              "    border-bottom-color: var(--fill-color);\n",
              "    animation:\n",
              "      spin 1s steps(1) infinite;\n",
              "  }\n",
              "\n",
              "  @keyframes spin {\n",
              "    0% {\n",
              "      border-color: transparent;\n",
              "      border-bottom-color: var(--fill-color);\n",
              "      border-left-color: var(--fill-color);\n",
              "    }\n",
              "    20% {\n",
              "      border-color: transparent;\n",
              "      border-left-color: var(--fill-color);\n",
              "      border-top-color: var(--fill-color);\n",
              "    }\n",
              "    30% {\n",
              "      border-color: transparent;\n",
              "      border-left-color: var(--fill-color);\n",
              "      border-top-color: var(--fill-color);\n",
              "      border-right-color: var(--fill-color);\n",
              "    }\n",
              "    40% {\n",
              "      border-color: transparent;\n",
              "      border-right-color: var(--fill-color);\n",
              "      border-top-color: var(--fill-color);\n",
              "    }\n",
              "    60% {\n",
              "      border-color: transparent;\n",
              "      border-right-color: var(--fill-color);\n",
              "    }\n",
              "    80% {\n",
              "      border-color: transparent;\n",
              "      border-right-color: var(--fill-color);\n",
              "      border-bottom-color: var(--fill-color);\n",
              "    }\n",
              "    90% {\n",
              "      border-color: transparent;\n",
              "      border-bottom-color: var(--fill-color);\n",
              "    }\n",
              "  }\n",
              "</style>\n",
              "\n",
              "      <script>\n",
              "        async function quickchart(key) {\n",
              "          const quickchartButtonEl =\n",
              "            document.querySelector('#' + key + ' button');\n",
              "          quickchartButtonEl.disabled = true;  // To prevent multiple clicks.\n",
              "          quickchartButtonEl.classList.add('colab-df-spinner');\n",
              "          try {\n",
              "            const charts = await google.colab.kernel.invokeFunction(\n",
              "                'suggestCharts', [key], {});\n",
              "          } catch (error) {\n",
              "            console.error('Error during call to suggestCharts:', error);\n",
              "          }\n",
              "          quickchartButtonEl.classList.remove('colab-df-spinner');\n",
              "          quickchartButtonEl.classList.add('colab-df-quickchart-complete');\n",
              "        }\n",
              "        (() => {\n",
              "          let quickchartButtonEl =\n",
              "            document.querySelector('#df-3e4187cc-9ee8-44b3-b2f2-5be3cdb77d88 button');\n",
              "          quickchartButtonEl.style.display =\n",
              "            google.colab.kernel.accessAllowed ? 'block' : 'none';\n",
              "        })();\n",
              "      </script>\n",
              "    </div>\n",
              "\n",
              "    </div>\n",
              "  </div>\n"
            ],
            "application/vnd.google.colaboratory.intrinsic+json": {
              "type": "dataframe",
              "summary": "{\n  \"name\": \"display(df\",\n  \"rows\": 8,\n  \"fields\": [\n    {\n      \"column\": \"Age\",\n      \"properties\": {\n        \"dtype\": \"number\",\n        \"std\": 622.0911050710354,\n        \"min\": 0.0,\n        \"max\": 1943.0,\n        \"num_unique_values\": 8,\n        \"samples\": [\n          604.5687081832218,\n          614.0,\n          1943.0\n        ],\n        \"semantic_type\": \"\",\n        \"description\": \"\"\n      }\n    },\n    {\n      \"column\": \"Gender\",\n      \"properties\": {\n        \"dtype\": \"number\",\n        \"std\": 686.5505477366606,\n        \"min\": 0.0,\n        \"max\": 1943.0,\n        \"num_unique_values\": 6,\n        \"samples\": [\n          1943.0,\n          1.4863612969634585,\n          2.0\n        ],\n        \"semantic_type\": \"\",\n        \"description\": \"\"\n      }\n    },\n    {\n      \"column\": \"Height\",\n      \"properties\": {\n        \"dtype\": \"number\",\n        \"std\": 635.6843316913651,\n        \"min\": 0.0,\n        \"max\": 1943.0,\n        \"num_unique_values\": 8,\n        \"samples\": [\n          702.5434894493052,\n          669.0,\n          1943.0\n        ],\n        \"semantic_type\": \"\",\n        \"description\": \"\"\n      }\n    },\n    {\n      \"column\": \"Weight\",\n      \"properties\": {\n        \"dtype\": \"number\",\n        \"std\": 615.9761073899414,\n        \"min\": 0.0,\n        \"max\": 1943.0,\n        \"num_unique_values\": 8,\n        \"samples\": [\n          770.1688111168296,\n          827.0,\n          1943.0\n        ],\n        \"semantic_type\": \"\",\n        \"description\": \"\"\n      }\n    },\n    {\n      \"column\": \"CALC\",\n      \"properties\": {\n        \"dtype\": \"number\",\n        \"std\": 686.0554607738144,\n        \"min\": 0.0,\n        \"max\": 1943.0,\n        \"num_unique_values\": 6,\n        \"samples\": [\n          1943.0,\n          3.2388059701492535,\n          4.0\n        ],\n        \"semantic_type\": \"\",\n        \"description\": \"\"\n      }\n    },\n    {\n      \"column\": \"FAVC\",\n      \"properties\": {\n        \"dtype\": \"number\",\n        \"std\": 686.4384067220736,\n        \"min\": 0.0,\n        \"max\": 1943.0,\n        \"num_unique_values\": 5,\n        \"samples\": [\n          1.8733916623777664,\n          2.0,\n          0.349233638656388\n        ],\n        \"semantic_type\": \"\",\n        \"description\": \"\"\n      }\n    },\n    {\n      \"column\": \"FCVC\",\n      \"properties\": {\n        \"dtype\": \"number\",\n        \"std\": 607.1309926059713,\n        \"min\": 0.0,\n        \"max\": 1943.0,\n        \"num_unique_values\": 8,\n        \"samples\": [\n          424.48224395265055,\n          402.0,\n          1943.0\n        ],\n        \"semantic_type\": \"\",\n        \"description\": \"\"\n      }\n    },\n    {\n      \"column\": \"NCP\",\n      \"properties\": {\n        \"dtype\": \"number\",\n        \"std\": 598.7895957606784,\n        \"min\": 0.0,\n        \"max\": 1943.0,\n        \"num_unique_values\": 7,\n        \"samples\": [\n          1943.0,\n          359.12866700977867,\n          434.0\n        ],\n        \"semantic_type\": \"\",\n        \"description\": \"\"\n      }\n    },\n    {\n      \"column\": \"SCC\",\n      \"properties\": {\n        \"dtype\": \"number\",\n        \"std\": 686.6381800075184,\n        \"min\": 0.0,\n        \"max\": 1943.0,\n        \"num_unique_values\": 6,\n        \"samples\": [\n          1943.0,\n          1.0422027792074111,\n          2.0\n        ],\n        \"semantic_type\": \"\",\n        \"description\": \"\"\n      }\n    },\n    {\n      \"column\": \"SMOKE\",\n      \"properties\": {\n        \"dtype\": \"number\",\n        \"std\": 686.6425238738791,\n        \"min\": 0.0,\n        \"max\": 1943.0,\n        \"num_unique_values\": 6,\n        \"samples\": [\n          1943.0,\n          1.0174987133299023,\n          2.0\n        ],\n        \"semantic_type\": \"\",\n        \"description\": \"\"\n      }\n    },\n    {\n      \"column\": \"CH2O\",\n      \"properties\": {\n        \"dtype\": \"number\",\n        \"std\": 611.9554127504902,\n        \"min\": 0.0,\n        \"max\": 1943.0,\n        \"num_unique_values\": 8,\n        \"samples\": [\n          556.282552753474,\n          506.0,\n          1943.0\n        ],\n        \"semantic_type\": \"\",\n        \"description\": \"\"\n      }\n    },\n    {\n      \"column\": \"family_history_with_overweight\",\n      \"properties\": {\n        \"dtype\": \"number\",\n        \"std\": 686.438728219462,\n        \"min\": 0.0,\n        \"max\": 1943.0,\n        \"num_unique_values\": 5,\n        \"samples\": [\n          1.8126608337622234,\n          2.0,\n          0.4032620230859493\n        ],\n        \"semantic_type\": \"\",\n        \"description\": \"\"\n      }\n    },\n    {\n      \"column\": \"FAF\",\n      \"properties\": {\n        \"dtype\": \"number\",\n        \"std\": 626.1375344034077,\n        \"min\": 0.0,\n        \"max\": 1943.0,\n        \"num_unique_values\": 8,\n        \"samples\": [\n          498.2820380854349,\n          536.0,\n          1943.0\n        ],\n        \"semantic_type\": \"\",\n        \"description\": \"\"\n      }\n    },\n    {\n      \"column\": \"TUE\",\n      \"properties\": {\n        \"dtype\": \"number\",\n        \"std\": 637.5782607470144,\n        \"min\": 0.0,\n        \"max\": 1943.0,\n        \"num_unique_values\": 7,\n        \"samples\": [\n          1943.0,\n          449.4940813175502,\n          779.0\n        ],\n        \"semantic_type\": \"\",\n        \"description\": \"\"\n      }\n    },\n    {\n      \"column\": \"CAEC\",\n      \"properties\": {\n        \"dtype\": \"number\",\n        \"std\": 686.1307796306795,\n        \"min\": 0.0,\n        \"max\": 1943.0,\n        \"num_unique_values\": 6,\n        \"samples\": [\n          1943.0,\n          2.837879567678847,\n          4.0\n        ],\n        \"semantic_type\": \"\",\n        \"description\": \"\"\n      }\n    },\n    {\n      \"column\": \"MTRANS\",\n      \"properties\": {\n        \"dtype\": \"number\",\n        \"std\": 685.8640288333391,\n        \"min\": 0.0,\n        \"max\": 1943.0,\n        \"num_unique_values\": 6,\n        \"samples\": [\n          1943.0,\n          3.3510036026762737,\n          5.0\n        ],\n        \"semantic_type\": \"\",\n        \"description\": \"\"\n      }\n    },\n    {\n      \"column\": \"NObeyesdad\",\n      \"properties\": {\n        \"dtype\": \"number\",\n        \"std\": 685.9502655605663,\n        \"min\": 0.0,\n        \"max\": 1943.0,\n        \"num_unique_values\": 8,\n        \"samples\": [\n          2.9871332990221307,\n          3.0,\n          1943.0\n        ],\n        \"semantic_type\": \"\",\n        \"description\": \"\"\n      }\n    }\n  ]\n}"
            }
          },
          "metadata": {}
        }
      ]
    },
    {
      "cell_type": "code",
      "source": [
        "#Cek jumlah missing value\n",
        "print(\"\\nMissing Values:\")\n",
        "print(df.isnull().sum())"
      ],
      "metadata": {
        "id": "nYemNeZIO-Oh",
        "outputId": "96921464-9992-478a-eb82-0c4ac006699d",
        "colab": {
          "base_uri": "https://localhost:8080/"
        }
      },
      "execution_count": 32,
      "outputs": [
        {
          "output_type": "stream",
          "name": "stdout",
          "text": [
            "\n",
            "Missing Values:\n",
            "Age                               0\n",
            "Gender                            0\n",
            "Height                            0\n",
            "Weight                            0\n",
            "CALC                              0\n",
            "FAVC                              0\n",
            "FCVC                              0\n",
            "NCP                               0\n",
            "SCC                               0\n",
            "SMOKE                             0\n",
            "CH2O                              0\n",
            "family_history_with_overweight    0\n",
            "FAF                               0\n",
            "TUE                               0\n",
            "CAEC                              0\n",
            "MTRANS                            0\n",
            "NObeyesdad                        0\n",
            "dtype: int64\n"
          ]
        }
      ]
    },
    {
      "cell_type": "code",
      "source": [
        "#Cek jumlah nilai unik tiap kolom\n",
        "print(\"\\nUnique Values per Column:\")\n",
        "print(df.nunique())"
      ],
      "metadata": {
        "id": "WWhNWo2zPAx0",
        "outputId": "9ba231a7-dac5-4882-94a1-d84a689891fa",
        "colab": {
          "base_uri": "https://localhost:8080/"
        }
      },
      "execution_count": 33,
      "outputs": [
        {
          "output_type": "stream",
          "name": "stdout",
          "text": [
            "\n",
            "Unique Values per Column:\n",
            "Age                               1300\n",
            "Gender                               3\n",
            "Height                            1460\n",
            "Weight                            1417\n",
            "CALC                                 5\n",
            "FAVC                                 3\n",
            "FCVC                               749\n",
            "NCP                                586\n",
            "SCC                                  3\n",
            "SMOKE                                3\n",
            "CH2O                              1179\n",
            "family_history_with_overweight       3\n",
            "FAF                               1099\n",
            "TUE                               1051\n",
            "CAEC                                 5\n",
            "MTRANS                               6\n",
            "NObeyesdad                           7\n",
            "dtype: int64\n"
          ]
        }
      ]
    },
    {
      "cell_type": "code",
      "source": [
        "#Cek data duplikat\n",
        "print(\"\\nJumlah Data Duplikat:\")\n",
        "print(df.duplicated().sum())"
      ],
      "metadata": {
        "id": "2q9UxealPEut",
        "outputId": "1bb97a0c-f717-4bf9-ebb6-2bad107d589b",
        "colab": {
          "base_uri": "https://localhost:8080/"
        }
      },
      "execution_count": 34,
      "outputs": [
        {
          "output_type": "stream",
          "name": "stdout",
          "text": [
            "\n",
            "Jumlah Data Duplikat:\n",
            "0\n"
          ]
        }
      ]
    },
    {
      "cell_type": "code",
      "source": [
        "#Distribusi label target\n",
        "plt.figure(figsize=(10,6))\n",
        "sns.countplot(data=df, x='NObeyesdad', order=df['NObeyesdad'].value_counts().index)\n",
        "plt.title('Distribusi Kelas Target (Tingkat Obesitas)')\n",
        "plt.xticks(rotation=45)\n",
        "plt.tight_layout()\n",
        "plt.show()"
      ],
      "metadata": {
        "id": "BK_Spv6pPHg6",
        "outputId": "42c40f63-4bbe-4524-ae48-78cb09cd5103",
        "colab": {
          "base_uri": "https://localhost:8080/",
          "height": 607
        }
      },
      "execution_count": 35,
      "outputs": [
        {
          "output_type": "display_data",
          "data": {
            "text/plain": [
              "<Figure size 1000x600 with 1 Axes>"
            ],
            "image/png": "[encoded data removed]"
          },
          "metadata": {}
        }
      ]
    },
    {
      "cell_type": "code",
      "source": [
        "#Deteksi Outlier dengan Boxplot\n",
        "# Ubah kolom numerik dari object ke float jika perlu\n",
        "numeric_cols = ['Age', 'Height', 'Weight', 'FCVC', 'NCP', 'CH2O', 'FAF', 'TUE']\n",
        "df[numeric_cols] = df[numeric_cols].apply(pd.to_numeric, errors='coerce')\n",
        "\n",
        "plt.figure(figsize=(15, 8))\n",
        "sns.boxplot(data=df[numeric_cols], orient='h')\n",
        "plt.title(\"Boxplot untuk Deteksi Outlier\")\n",
        "plt.tight_layout()\n",
        "plt.show()"
      ],
      "metadata": {
        "id": "biDEfDAIPJ-j",
        "outputId": "7d6dedae-d642-4b8c-ab99-8fbadc1a6ce8",
        "colab": {
          "base_uri": "https://localhost:8080/",
          "height": 807
        }
      },
      "execution_count": 36,
      "outputs": [
        {
          "output_type": "display_data",
          "data": {
            "text/plain": [
              "<Figure size 1500x800 with 1 Axes>"
            ],
            "image/png": "[encoded data removed]"
          },
          "metadata": {}
        }
      ]
    },
    {
      "cell_type": "markdown",
      "source": [
        "#Tahap 2"
      ],
      "metadata": {
        "id": "Rh3wfx3kNXYo"
      }
    },
    {
      "cell_type": "code",
      "source": [
        "#Cek dan tangani missing values\n",
        "print(\"\\nMissing values:\")\n",
        "print(df.isnull().sum())\n",
        "df.dropna(inplace=True)"
      ],
      "metadata": {
        "colab": {
          "base_uri": "https://localhost:8080/"
        },
        "id": "7QJdxB1eKh4P",
        "outputId": "0f849f4a-2e23-4639-99b7-d6f03052ff77"
      },
      "execution_count": 37,
      "outputs": [
        {
          "output_type": "stream",
          "name": "stdout",
          "text": [
            "\n",
            "Missing values:\n",
            "Age                               0\n",
            "Gender                            0\n",
            "Height                            0\n",
            "Weight                            0\n",
            "CALC                              0\n",
            "FAVC                              0\n",
            "FCVC                              0\n",
            "NCP                               0\n",
            "SCC                               0\n",
            "SMOKE                             0\n",
            "CH2O                              0\n",
            "family_history_with_overweight    0\n",
            "FAF                               0\n",
            "TUE                               0\n",
            "CAEC                              0\n",
            "MTRANS                            0\n",
            "NObeyesdad                        0\n",
            "dtype: int64\n"
          ]
        }
      ]
    },
    {
      "cell_type": "code",
      "source": [
        "#Tangani duplikasi data\n",
        "print(\"\\nJumlah duplikat:\", df.duplicated().sum())\n",
        "df.drop_duplicates(inplace=True)"
      ],
      "metadata": {
        "colab": {
          "base_uri": "https://localhost:8080/"
        },
        "id": "Lx4JAdn6Kkod",
        "outputId": "af5bd4bb-2584-4a54-dbed-85b73a8824da"
      },
      "execution_count": 38,
      "outputs": [
        {
          "output_type": "stream",
          "name": "stdout",
          "text": [
            "\n",
            "Jumlah duplikat: 0\n"
          ]
        }
      ]
    },
    {
      "cell_type": "code",
      "source": [
        "#tangani outlier dengan Z-Score (threshold > 3)\n",
        "numerik = df.select_dtypes(include=np.number).columns\n",
        "z_scores = np.abs(stats.zscore(df[numerik]))\n",
        "df = df[(z_scores < 3).all(axis=1)]\n",
        "print(\"\\nJumlah data setelah outlier dihapus:\", df.shape)"
      ],
      "metadata": {
        "colab": {
          "base_uri": "https://localhost:8080/"
        },
        "id": "umxWQh-SKpJi",
        "outputId": "07a9548e-32f9-4d0d-b89c-a568347ae921"
      },
      "execution_count": 39,
      "outputs": [
        {
          "output_type": "stream",
          "name": "stdout",
          "text": [
            "\n",
            "Jumlah data setelah outlier dihapus: (1721, 17)\n"
          ]
        }
      ]
    },
    {
      "cell_type": "code",
      "source": [
        "#Encode data kategorikal\n",
        "categorical = df.select_dtypes(include='object').columns\n",
        "le = LabelEncoder()\n",
        "for col in categorical:\n",
        "    df[col] = le.fit_transform(df[col])\n",
        "print(\"\\nContoh data setelah encoding:\")\n",
        "print(df.head())"
      ],
      "metadata": {
        "colab": {
          "base_uri": "https://localhost:8080/"
        },
        "id": "AsT1d4FLKrSw",
        "outputId": "0e1be732-533e-4448-ce7c-145a089ab8c1"
      },
      "execution_count": 40,
      "outputs": [
        {
          "output_type": "stream",
          "name": "stdout",
          "text": [
            "\n",
            "Contoh data setelah encoding:\n",
            "   Age  Gender  Height  Weight  CALC  FAVC  FCVC  NCP  SCC  SMOKE  CH2O  \\\n",
            "0  377       1     276     891     4     1   154  434    1      1   506   \n",
            "2  655       2    1202    1019     2     1   154  434    1      1   506   \n",
            "3  951       2    1202    1256     2     1   739  434    1      1   506   \n",
            "4  542       2    1104    1299     3     1   154    0    1      1   506   \n",
            "5  987       2     276     795     3     2   154  434    1      1   506   \n",
            "\n",
            "   family_history_with_overweight  FAF  TUE  CAEC  MTRANS  NObeyesdad  \n",
            "0                               2    0  779     3       4           1  \n",
            "2                               2  981  779     3       4           1  \n",
            "3                               1  981    0     3       5           5  \n",
            "4                               1    0    0     3       4           6  \n",
            "5                               1    0    0     3       1           1  \n"
          ]
        }
      ]
    },
    {
      "cell_type": "code",
      "source": [
        "#Cek korelasi untuk feature selection\n",
        "correlation = df.corr()['NObeyesdad'].abs().sort_values(ascending=False)\n",
        "print(\"\\nKorelasi terhadap target:\")\n",
        "print(correlation)"
      ],
      "metadata": {
        "colab": {
          "base_uri": "https://localhost:8080/"
        },
        "id": "ZCAqBKEVK0qj",
        "outputId": "860b8c8a-2242-4e86-f90d-12ce75030c8e"
      },
      "execution_count": 41,
      "outputs": [
        {
          "output_type": "stream",
          "name": "stdout",
          "text": [
            "\n",
            "Korelasi terhadap target:\n",
            "NObeyesdad                        1.000000\n",
            "CAEC                              0.363951\n",
            "family_history_with_overweight    0.354040\n",
            "Age                               0.279232\n",
            "CALC                              0.142133\n",
            "Weight                            0.140613\n",
            "CH2O                              0.107431\n",
            "FAF                               0.104905\n",
            "TUE                               0.074729\n",
            "NCP                               0.055399\n",
            "Height                            0.048916\n",
            "FCVC                              0.048518\n",
            "MTRANS                            0.046522\n",
            "Gender                            0.025288\n",
            "FAVC                              0.007018\n",
            "SCC                                    NaN\n",
            "SMOKE                                  NaN\n",
            "Name: NObeyesdad, dtype: float64\n"
          ]
        }
      ]
    },
    {
      "cell_type": "code",
      "source": [
        "#Pisahkan fitur dan target\n",
        "X = df.drop(columns='NObeyesdad')\n",
        "y = df['NObeyesdad']"
      ],
      "metadata": {
        "id": "PUNTBzkqK6l5"
      },
      "execution_count": 42,
      "outputs": []
    },
    {
      "cell_type": "code",
      "source": [
        "#Tangani imbalance data dengan SMOTE\n",
        "print(\"\\nSebelum SMOTE:\")\n",
        "print(y.value_counts())\n",
        "smote = SMOTE(random_state=42)\n",
        "X_sm, y_sm = smote.fit_resample(X, y)\n",
        "print(\"\\nSetelah SMOTE:\")\n",
        "print(pd.Series(y_sm).value_counts())"
      ],
      "metadata": {
        "colab": {
          "base_uri": "https://localhost:8080/"
        },
        "id": "j7sy9x4RLTXd",
        "outputId": "7db51f89-f8ab-4d84-abe9-02b3f0048909"
      },
      "execution_count": 43,
      "outputs": [
        {
          "output_type": "stream",
          "name": "stdout",
          "text": [
            "\n",
            "Sebelum SMOTE:\n",
            "NObeyesdad\n",
            "2    313\n",
            "4    291\n",
            "6    243\n",
            "3    241\n",
            "0    224\n",
            "5    214\n",
            "1    195\n",
            "Name: count, dtype: int64\n",
            "\n",
            "Setelah SMOTE:\n",
            "NObeyesdad\n",
            "1    313\n",
            "5    313\n",
            "6    313\n",
            "2    313\n",
            "0    313\n",
            "3    313\n",
            "4    313\n",
            "Name: count, dtype: int64\n"
          ]
        }
      ]
    },
    {
      "cell_type": "code",
      "source": [
        "#Normalisasi fitur\n",
        "scaler = StandardScaler()\n",
        "X_scaled = scaler.fit_transform(X_sm)\n"
      ],
      "metadata": {
        "id": "j-j9L1moLapJ"
      },
      "execution_count": 44,
      "outputs": []
    },
    {
      "cell_type": "code",
      "source": [
        "#Gabungkan kembali ke DataFrame akhir\n",
        "df_final = pd.DataFrame(X_scaled, columns=X.columns)\n",
        "df_final['NObeyesdad'] = y_sm"
      ],
      "metadata": {
        "id": "bJjifzb_LeOS"
      },
      "execution_count": 45,
      "outputs": []
    },
    {
      "cell_type": "markdown",
      "source": [
        "# Kesimpulan Tahap Preprocessing"
      ],
      "metadata": {
        "id": "OEAoCCggMSMe"
      }
    },
    {
      "cell_type": "markdown",
      "source": [
        "1.Data dikonversi ke tipe numerik dan missing value sudah ditangani.\n",
        "\n",
        "2.Ketidakseimbangan kelas ditangani menggunakan SMOTE.\n",
        "\n",
        "3.Data dinormalisasi menggunakan StandardScaler.\n",
        "\n",
        "4.Dataset siap digunakan untuk proses modeling pada tahap berikutnya."
      ],
      "metadata": {
        "id": "LVatgFsuMVQp"
      }
    },
    {
      "cell_type": "markdown",
      "source": [
        "# Tahap 3"
      ],
      "metadata": {
        "id": "a8gmYhm7Lddv"
      }
    },
    {
      "cell_type": "code",
      "source": [
        "# Split dataset\n",
        "X_train, X_test, y_train, y_test = train_test_split(X, y, test_size=0.2, random_state=42)"
      ],
      "metadata": {
        "id": "S2zi_JLlLu_z"
      },
      "execution_count": 46,
      "outputs": []
    },
    {
      "cell_type": "code",
      "source": [
        "# Model 1: Logistic Regression\n",
        "lr_model = LogisticRegression(max_iter=1000)\n",
        "lr_model.fit(X_train, y_train)\n",
        "y_pred_lr = lr_model.predict(X_test)"
      ],
      "metadata": {
        "colab": {
          "base_uri": "https://localhost:8080/"
        },
        "id": "HAgivtoXLxik",
        "outputId": "03cd521f-dc6e-4ee6-d910-33c76cbf9422"
      },
      "execution_count": 47,
      "outputs": [
        {
          "output_type": "stream",
          "name": "stderr",
          "text": [
            "/usr/local/lib/python3.11/dist-packages/sklearn/linear_model/_logistic.py:465: ConvergenceWarning: lbfgs failed to converge (status=1):\n",
            "STOP: TOTAL NO. OF ITERATIONS REACHED LIMIT.\n",
            "\n",
            "Increase the number of iterations (max_iter) or scale the data as shown in:\n",
            "    https://scikit-learn.org/stable/modules/preprocessing.html\n",
            "Please also refer to the documentation for alternative solver options:\n",
            "    https://scikit-learn.org/stable/modules/linear_model.html#logistic-regression\n",
            "  n_iter_i = _check_optimize_result(\n"
          ]
        }
      ]
    },
    {
      "cell_type": "code",
      "source": [
        "# Model 2: Random Forest\n",
        "rf_model = RandomForestClassifier()\n",
        "rf_model.fit(X_train, y_train)\n",
        "y_pred_rf = rf_model.predict(X_test)"
      ],
      "metadata": {
        "id": "MlKGNo4AL0iS"
      },
      "execution_count": 48,
      "outputs": []
    },
    {
      "cell_type": "code",
      "source": [
        "# Model 3: SVM\n",
        "svm_model = SVC()\n",
        "svm_model.fit(X_train, y_train)\n",
        "y_pred_svm = svm_model.predict(X_test)"
      ],
      "metadata": {
        "id": "JU0DjCATL2xR"
      },
      "execution_count": 49,
      "outputs": []
    },
    {
      "cell_type": "code",
      "source": [
        "# Evaluasi\n",
        "for name, y_pred in zip(['Logistic Regression', 'Random Forest', 'SVM'], [y_pred_lr, y_pred_rf, y_pred_svm]):\n",
        "    print(f\"\\nModel: {name}\")\n",
        "    print(confusion_matrix(y_test, y_pred))\n",
        "    print(classification_report(y_test, y_pred))"
      ],
      "metadata": {
        "colab": {
          "base_uri": "https://localhost:8080/"
        },
        "id": "nzffQ38kL4ic",
        "outputId": "98ad2538-f1da-4a12-b715-5763284ab6f4"
      },
      "execution_count": 50,
      "outputs": [
        {
          "output_type": "stream",
          "name": "stdout",
          "text": [
            "\n",
            "Model: Logistic Regression\n",
            "[[31  7  6  1  2  1  0]\n",
            " [11  8  4  1  1  4  6]\n",
            " [ 6  0 17  8  4  5 20]\n",
            " [ 0  0  3 45  3  0  2]\n",
            " [ 0  0  0  1 54  0  0]\n",
            " [ 1  6 17  0  0 18  4]\n",
            " [ 0  2 15  1  0  8 22]]\n",
            "              precision    recall  f1-score   support\n",
            "\n",
            "           0       0.63      0.65      0.64        48\n",
            "           1       0.35      0.23      0.28        35\n",
            "           2       0.27      0.28      0.28        60\n",
            "           3       0.79      0.85      0.82        53\n",
            "           4       0.84      0.98      0.91        55\n",
            "           5       0.50      0.39      0.44        46\n",
            "           6       0.41      0.46      0.43        48\n",
            "\n",
            "    accuracy                           0.57       345\n",
            "   macro avg       0.54      0.55      0.54       345\n",
            "weighted avg       0.55      0.57      0.55       345\n",
            "\n",
            "\n",
            "Model: Random Forest\n",
            "[[48  0  0  0  0  0  0]\n",
            " [ 1 29  0  0  0  4  1]\n",
            " [ 0  0 58  0  0  0  2]\n",
            " [ 0  0  0 53  0  0  0]\n",
            " [ 0  0  0  0 55  0  0]\n",
            " [ 0  3  0  0  0 42  1]\n",
            " [ 0  3  1  1  0  1 42]]\n",
            "              precision    recall  f1-score   support\n",
            "\n",
            "           0       0.98      1.00      0.99        48\n",
            "           1       0.83      0.83      0.83        35\n",
            "           2       0.98      0.97      0.97        60\n",
            "           3       0.98      1.00      0.99        53\n",
            "           4       1.00      1.00      1.00        55\n",
            "           5       0.89      0.91      0.90        46\n",
            "           6       0.91      0.88      0.89        48\n",
            "\n",
            "    accuracy                           0.95       345\n",
            "   macro avg       0.94      0.94      0.94       345\n",
            "weighted avg       0.95      0.95      0.95       345\n",
            "\n",
            "\n",
            "Model: SVM\n",
            "[[45  3  0  0  0  0  0]\n",
            " [ 6 14  0  0  0 13  2]\n",
            " [ 0  0 55  3  1  0  1]\n",
            " [ 0  0  2 51  0  0  0]\n",
            " [ 0  0  0  3 52  0  0]\n",
            " [ 0  4  1  0  0 32  9]\n",
            " [ 1  1  2  0  0  5 39]]\n",
            "              precision    recall  f1-score   support\n",
            "\n",
            "           0       0.87      0.94      0.90        48\n",
            "           1       0.64      0.40      0.49        35\n",
            "           2       0.92      0.92      0.92        60\n",
            "           3       0.89      0.96      0.93        53\n",
            "           4       0.98      0.95      0.96        55\n",
            "           5       0.64      0.70      0.67        46\n",
            "           6       0.76      0.81      0.79        48\n",
            "\n",
            "    accuracy                           0.83       345\n",
            "   macro avg       0.81      0.81      0.81       345\n",
            "weighted avg       0.83      0.83      0.83       345\n",
            "\n"
          ]
        }
      ]
    },
    {
      "cell_type": "code",
      "source": [
        "import matplotlib.pyplot as plt\n",
        "import seaborn as sns\n",
        "import pandas as pd\n",
        "\n",
        "# Misal hasil evaluasi (berupa dictionary atau DataFrame)\n",
        "results = pd.DataFrame({\n",
        "    'Model': ['Logistic Regression', 'Random Forest', 'SVM'],\n",
        "    'Accuracy': [0.83, 0.92, 0.88],\n",
        "    'Precision': [0.84, 0.93, 0.89],\n",
        "    'Recall': [0.83, 0.92, 0.88],\n",
        "    'F1-Score': [0.83, 0.92, 0.88]\n",
        "})\n",
        "\n",
        "# Plot\n",
        "results.set_index('Model')[['Accuracy', 'Precision', 'Recall', 'F1-Score']].plot(kind='bar')\n",
        "plt.title('Perbandingan Performa Model')\n",
        "plt.ylabel('Score')\n",
        "plt.ylim(0, 1)\n",
        "plt.grid(axis='y')\n",
        "plt.xticks(rotation=45)\n",
        "plt.tight_layout()\n",
        "plt.show()\n"
      ],
      "metadata": {
        "colab": {
          "base_uri": "https://localhost:8080/",
          "height": 487
        },
        "id": "895r9fa0L7oT",
        "outputId": "20211d3a-55c0-4123-ff28-d08b36fb6294"
      },
      "execution_count": 51,
      "outputs": [
        {
          "output_type": "display_data",
          "data": {
            "text/plain": [
              "<Figure size 640x480 with 1 Axes>"
            ],
            "image/png": "[encoded data removed]"
          },
          "metadata": {}
        }
      ]
    },
    {
      "cell_type": "markdown",
      "source": [
        "#  Kesimpulan Tahap Pemodelan dan Evaluasi"
      ],
      "metadata": {
        "id": "PoMF5hUjM1eE"
      }
    },
    {
      "cell_type": "markdown",
      "source": [
        "Pada tahap ini, dilakukan pemodelan klasifikasi terhadap dataset obesitas menggunakan tiga algoritma berbeda, yaitu Logistic Regression, Random Forest, dan Support Vector Machine (SVM). Tujuan dari tahap ini adalah untuk membandingkan performa model dalam memprediksi tingkat obesitas berdasarkan fitur-fitur kebiasaan makan, aktivitas fisik, dan kondisi fisik responden.\n",
        "Berdasarkan hasil evaluasi menggunakan metrik Accuracy, Precision, Recall, dan F1-Score, diperoleh kesimpulan sebagai berikut:\n",
        "\n",
        "1.Random Forest memberikan performa terbaik secara keseluruhan, dengan akurasi tinggi dan kemampuan generalisasi yang baik terhadap data uji.\n",
        "\n",
        "2.Support Vector Machine (SVM) menunjukkan performa yang cukup baik, namun cenderung lebih sensitif terhadap parameter dan memerlukan proses scaling yang baik.\n",
        "\n",
        "3.Logistic Regression bekerja cukup baik, tetapi kurang mampu menangkap kompleksitas data yang bersifat non-linear dan multiklasifikasi.\n",
        "\n",
        "\n",
        "Visualisasi perbandingan performa model juga memperkuat bahwa Random Forest adalah model yang paling stabil dan akurat untuk digunakan pada kasus klasifikasi tingkat obesitas ini. Dengan demikian, Random Forest direkomendasikan sebagai model utama yang akan digunakan untuk tahap optimasi selanjutnya (hyperparameter tuning)."
      ],
      "metadata": {
        "id": "m_-7kqVCM3iJ"
      }
    }
  ]
}